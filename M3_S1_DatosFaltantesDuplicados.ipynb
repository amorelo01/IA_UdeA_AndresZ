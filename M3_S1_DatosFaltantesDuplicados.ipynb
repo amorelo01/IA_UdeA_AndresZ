{
  "nbformat": 4,
  "nbformat_minor": 0,
  "metadata": {
    "colab": {
      "provenance": [],
      "toc_visible": true,
      "include_colab_link": true
    },
    "kernelspec": {
      "name": "python3",
      "display_name": "Python 3"
    },
    "language_info": {
      "name": "python"
    }
  },
  "cells": [
    {
      "cell_type": "markdown",
      "metadata": {
        "id": "view-in-github",
        "colab_type": "text"
      },
      "source": [
        "<a href=\"https://colab.research.google.com/github/amorelo01/IA_UdeA_AndresZ/blob/main/M3_S1_DatosFaltantesDuplicados.ipynb\" target=\"_parent\"><img src=\"https://colab.research.google.com/assets/colab-badge.svg\" alt=\"Open In Colab\"/></a>"
      ]
    },
    {
      "cell_type": "markdown",
      "source": [
        "<p><img alt=\"banner\" height=\"252px\" width=\"1080px\" src=\"https://docs.google.com/uc?export=download&id=18D9zTLyHjMFbwtI2Eenr0l5oGeH9a1Wq\"  align=\"center\" hspace=\"10px\" vspace=\"0px\" ></p>\n",
        "\n"
      ],
      "metadata": {
        "id": "ZYOkWXQEJPlj"
      }
    },
    {
      "cell_type": "markdown",
      "source": [
        "\n",
        "\n",
        "# <font color='056938'> **Limpieza de datos** </font>\n",
        "---\n",
        "\n",
        "La limpieza de datos o *Data Cleaning* es la depuración de datos erróneos en una base de datos. Esta acción permite identificar datos incorrectos, incompletos o poco relevantes. Después de la limpieza, se sustituyen, modifican o eliminan por completo los datos inservibles.\n",
        "\n",
        "\n",
        "\n",
        "\n"
      ],
      "metadata": {
        "id": "R7ZeBtTcPmX5"
      }
    },
    {
      "cell_type": "markdown",
      "source": [
        "# <font color='056938'> **¿Por qué es importante la limpieza de datos?** </font>\n",
        "---\n",
        "\n",
        "Los datos de calidad pueden variar dependiendo de cuál sea su cualidad, entre las principales se encuentran:\n",
        "\n",
        "**Exactitud**: todos los datos deben ser precisos. Una forma de comprobar su exactitud es comparándolos con otras fuentes. Si esta fuente no existe o es inexacta, entonces la información que tienes también lo será.\n",
        "\n",
        "**Coherencia**: la coherencia de los datos te permite saber si la información de contacto que tienes de una persona u organización es la misma en diferentes bases de datos, tablas o aplicaciones que utilices.\n",
        "\n",
        "**Validez**: todos los datos deben cumplir con reglas o restricciones definidas. De igual forma, cada información puede ser validada para comprobar si es correcta o no.\n",
        "\n",
        "**Uniformidad**: es importante que todos los datos dentro de tus bases tengan unidades uniformes. Este es un elemento realmente indispensable a la hora de hacer data cleansing, pues de no tener todo en orden, el proceso se vuelve complejo."
      ],
      "metadata": {
        "id": "6y9tahYnNZD2"
      }
    },
    {
      "cell_type": "markdown",
      "source": [
        "# <font color='056938'> **¿Qué hacer en la limpieza de datos?** </font>\n",
        "---\n",
        "\n",
        "Existen varias técnicas de limpieza de datos que puede utilizar para mejorar la calidad de sus datos. Aquí se presentan algunas de las técnicas más comunes:\n",
        "\n",
        "1.   Eliminar datos duplicados\n",
        "2.   Imputar datos faltantes\n",
        "3.   Corregir valores inconsistentes\n",
        "4.   Estandarizar datos\n",
        "5.   Eliminar valores atípicos\n",
        "6.   Manejar errores\n",
        "7.   Verificar la precisión de los datos\n",
        "\n"
      ],
      "metadata": {
        "id": "KizpMwOoUP-L"
      }
    },
    {
      "cell_type": "markdown",
      "source": [
        "# <font color='056938'> **Datos duplicados** </font>\n",
        "---\n",
        "\n",
        "Los datos duplicados suelen presentarse por dos razones: la primera, por la entrada de datos inconsistente y la segunda, por los múltiples canales que capturan información de contacto."
      ],
      "metadata": {
        "id": "xUm29w19V14J"
      }
    },
    {
      "cell_type": "markdown",
      "source": [
        "## <font color='8EC044'> **¿Cómo se detectan los datos duplicados?** </font>\n",
        "\n",
        "Usamos la función `duplicated()` de la libreria pandas para identificar datos duplicados. El método devuelve una Serie con valores `True` y `False` que indican qué filas en el DataFrame están duplicadas y cuáles no.\n",
        "\n",
        "> <font color='46B8A9'> **Tip** </font> El tipo de resultado obtenido, Serie con valores `True` y `False`, es usualmente denomindado en Pandas como una máscara (o `mask` en inglés). Es decir, una estructura booleana que se utiliza para filtrar datos en un DataFrame o una Serie. Consiste en un conjunto de valores `True` o `False`, donde los valores `True` indican las filas o elementos que se deben conservar, y los `False` los que se deben descartar."
      ],
      "metadata": {
        "id": "7HcAbWzNQdJp"
      }
    },
    {
      "cell_type": "markdown",
      "source": [
        "Considere el listado del registro de los usuarios que se han comunicado con la mesa de ayuda de la biblioteca de la Universidad de Antioquia durante un periodo de tiempo en particular"
      ],
      "metadata": {
        "id": "IerSR1a5KvbK"
      }
    },
    {
      "cell_type": "code",
      "source": [
        "!gdown 1Or-DGN4av60uzzVJJNSb3he6yGH_6if5\n",
        "import pandas as pd\n",
        "import numpy as np\n",
        "\n",
        "df_original = pd.read_csv('registros.csv')\n",
        "df_original"
      ],
      "metadata": {
        "id": "sUQyoPOSVBal"
      },
      "execution_count": null,
      "outputs": []
    },
    {
      "cell_type": "markdown",
      "source": [
        "Usamos la función `duplicated()` para identificar los registros repetidos."
      ],
      "metadata": {
        "id": "DL4N0nVANA-H"
      }
    },
    {
      "cell_type": "code",
      "source": [
        "# Identificar filas duplicadas\n",
        "duplicados1 = df_original.duplicated()\n",
        "\n",
        "# Imprimir las filas duplicadas\n",
        "duplicados1"
      ],
      "metadata": {
        "colab": {
          "base_uri": "https://localhost:8080/",
          "height": 397
        },
        "id": "Q44G0sDW8N6E",
        "outputId": "467c5c35-71fb-4e25-efd7-37f2cfee9eb4"
      },
      "execution_count": null,
      "outputs": [
        {
          "output_type": "execute_result",
          "data": {
            "text/plain": [
              "0    False\n",
              "1    False\n",
              "2    False\n",
              "3    False\n",
              "4    False\n",
              "5    False\n",
              "6    False\n",
              "7     True\n",
              "8    False\n",
              "9    False\n",
              "dtype: bool"
            ],
            "text/html": [
              "<div>\n",
              "<style scoped>\n",
              "    .dataframe tbody tr th:only-of-type {\n",
              "        vertical-align: middle;\n",
              "    }\n",
              "\n",
              "    .dataframe tbody tr th {\n",
              "        vertical-align: top;\n",
              "    }\n",
              "\n",
              "    .dataframe thead th {\n",
              "        text-align: right;\n",
              "    }\n",
              "</style>\n",
              "<table border=\"1\" class=\"dataframe\">\n",
              "  <thead>\n",
              "    <tr style=\"text-align: right;\">\n",
              "      <th></th>\n",
              "      <th>0</th>\n",
              "    </tr>\n",
              "  </thead>\n",
              "  <tbody>\n",
              "    <tr>\n",
              "      <th>0</th>\n",
              "      <td>False</td>\n",
              "    </tr>\n",
              "    <tr>\n",
              "      <th>1</th>\n",
              "      <td>False</td>\n",
              "    </tr>\n",
              "    <tr>\n",
              "      <th>2</th>\n",
              "      <td>False</td>\n",
              "    </tr>\n",
              "    <tr>\n",
              "      <th>3</th>\n",
              "      <td>False</td>\n",
              "    </tr>\n",
              "    <tr>\n",
              "      <th>4</th>\n",
              "      <td>False</td>\n",
              "    </tr>\n",
              "    <tr>\n",
              "      <th>5</th>\n",
              "      <td>False</td>\n",
              "    </tr>\n",
              "    <tr>\n",
              "      <th>6</th>\n",
              "      <td>False</td>\n",
              "    </tr>\n",
              "    <tr>\n",
              "      <th>7</th>\n",
              "      <td>True</td>\n",
              "    </tr>\n",
              "    <tr>\n",
              "      <th>8</th>\n",
              "      <td>False</td>\n",
              "    </tr>\n",
              "    <tr>\n",
              "      <th>9</th>\n",
              "      <td>False</td>\n",
              "    </tr>\n",
              "  </tbody>\n",
              "</table>\n",
              "</div><br><label><b>dtype:</b> bool</label>"
            ]
          },
          "metadata": {},
          "execution_count": 38
        }
      ]
    },
    {
      "cell_type": "markdown",
      "source": [
        "Note que en nuestro caso identifica que el registro con el indice `7` es duplicado. En particular note que los registros con los indices `3` y `7` son idénticos"
      ],
      "metadata": {
        "id": "hN-ixxH8O3O_"
      }
    },
    {
      "cell_type": "markdown",
      "source": [
        "Es posible identificar duplicados con base en un subconjunto de las columnas"
      ],
      "metadata": {
        "id": "YL-djZh1QB1F"
      }
    },
    {
      "cell_type": "code",
      "source": [
        "# Identificar filas duplicadas de una columna específica (Autor)\n",
        "duplicados2 = df_original.duplicated(subset=['nombre', 'correo'])\n",
        "\n",
        "# Imprimir las filas duplicadas\n",
        "duplicados2"
      ],
      "metadata": {
        "colab": {
          "base_uri": "https://localhost:8080/",
          "height": 397
        },
        "id": "g4J8STal8rql",
        "outputId": "ec667d21-6e3a-4852-a72a-b0db8d149569"
      },
      "execution_count": null,
      "outputs": [
        {
          "output_type": "execute_result",
          "data": {
            "text/plain": [
              "0    False\n",
              "1    False\n",
              "2    False\n",
              "3    False\n",
              "4    False\n",
              "5    False\n",
              "6    False\n",
              "7     True\n",
              "8    False\n",
              "9     True\n",
              "dtype: bool"
            ],
            "text/html": [
              "<div>\n",
              "<style scoped>\n",
              "    .dataframe tbody tr th:only-of-type {\n",
              "        vertical-align: middle;\n",
              "    }\n",
              "\n",
              "    .dataframe tbody tr th {\n",
              "        vertical-align: top;\n",
              "    }\n",
              "\n",
              "    .dataframe thead th {\n",
              "        text-align: right;\n",
              "    }\n",
              "</style>\n",
              "<table border=\"1\" class=\"dataframe\">\n",
              "  <thead>\n",
              "    <tr style=\"text-align: right;\">\n",
              "      <th></th>\n",
              "      <th>0</th>\n",
              "    </tr>\n",
              "  </thead>\n",
              "  <tbody>\n",
              "    <tr>\n",
              "      <th>0</th>\n",
              "      <td>False</td>\n",
              "    </tr>\n",
              "    <tr>\n",
              "      <th>1</th>\n",
              "      <td>False</td>\n",
              "    </tr>\n",
              "    <tr>\n",
              "      <th>2</th>\n",
              "      <td>False</td>\n",
              "    </tr>\n",
              "    <tr>\n",
              "      <th>3</th>\n",
              "      <td>False</td>\n",
              "    </tr>\n",
              "    <tr>\n",
              "      <th>4</th>\n",
              "      <td>False</td>\n",
              "    </tr>\n",
              "    <tr>\n",
              "      <th>5</th>\n",
              "      <td>False</td>\n",
              "    </tr>\n",
              "    <tr>\n",
              "      <th>6</th>\n",
              "      <td>False</td>\n",
              "    </tr>\n",
              "    <tr>\n",
              "      <th>7</th>\n",
              "      <td>True</td>\n",
              "    </tr>\n",
              "    <tr>\n",
              "      <th>8</th>\n",
              "      <td>False</td>\n",
              "    </tr>\n",
              "    <tr>\n",
              "      <th>9</th>\n",
              "      <td>True</td>\n",
              "    </tr>\n",
              "  </tbody>\n",
              "</table>\n",
              "</div><br><label><b>dtype:</b> bool</label>"
            ]
          },
          "metadata": {},
          "execution_count": 39
        }
      ]
    },
    {
      "cell_type": "markdown",
      "source": [
        "En este caso, considerando solo las columnas `nombre` y `correo`, las parejas de registros $(3, 7)$  y $(1, 9)$ estan repetidos. **¿Qué sucede con el par de registros $(0, 5)$?**"
      ],
      "metadata": {
        "id": "tmsCcsR5QNSF"
      }
    },
    {
      "cell_type": "markdown",
      "source": [
        "<font color='46B8A9'> **Parámetro `keep`** </font>\n",
        "\n",
        "El parámetro `keep` de la función `duplicated()` en Pandas controla cuál o cuáles de las filas duplicadas se deben marcar como duplicadas. Tiene tres opciones posibles:\n",
        "\n",
        "`keep`=`first` (por defecto): Marca como duplicadas todas las filas excepto la primera aparición de un duplicado.\n",
        "\n",
        "`keep`=`last`: Marca como duplicadas todas las filas excepto la última aparición de un duplicado.\n",
        "\n",
        "`keep`=`False`: Marca todas las filas duplicadas, sin excluir ninguna, es decir, tanto la primera como las siguientes apariciones serán marcadas como duplicadas."
      ],
      "metadata": {
        "id": "UJkyX-_rRkCl"
      }
    },
    {
      "cell_type": "markdown",
      "source": [
        "### <font color='157699'> **Ejercicio** </font>\n",
        "---\n",
        "\n",
        "Use la función `duplicated()` para identificar los registros que se encuentran repetidos en función  del `nombre` y el `correo`, tenga presente que deberá marcarse como repetidas todas las ocurrencias de un registro excepto aquella que tenga la fecha de aparición más temprana (debe conservarse el registro que tenga la fecha menor)"
      ],
      "metadata": {
        "id": "ReFiinV9pPu1"
      }
    },
    {
      "cell_type": "code",
      "source": [
        "# Escriba aquí su respuesta\n"
      ],
      "metadata": {
        "id": "2Ps9kOuAYP57",
        "collapsed": true
      },
      "execution_count": null,
      "outputs": []
    },
    {
      "cell_type": "markdown",
      "source": [
        "## <font color='8EC044'> **¿Qué hacer con los datos duplicados?** </font>\n",
        "\n",
        "Usualmente los datos duplicados se remueven del dataframe. Para ello podemos hacerlo a través de la mascará que creamos anteriormente. Es decir:\n"
      ],
      "metadata": {
        "id": "LrESCZmXQljE"
      }
    },
    {
      "cell_type": "code",
      "source": [
        "# Por defecto mantiene el primer registro y elimina las demás duplicados\n",
        "df = df_original.copy()\n",
        "mask = df.duplicated(subset=['nombre', \"correo\"])\n",
        "mask\n",
        "dfsinduplicados1 = df[~mask]\n",
        "dfsinduplicados1"
      ],
      "metadata": {
        "id": "jKLEZvOLY7zS"
      },
      "execution_count": null,
      "outputs": []
    },
    {
      "cell_type": "markdown",
      "source": [
        "Alternativamente, podemos usuar la función `drop_duplicates()` que también puede considerar parámetro `keep` que discutimos anteriormente."
      ],
      "metadata": {
        "id": "ojnMKKw0Zgep"
      }
    },
    {
      "cell_type": "code",
      "source": [
        "# Por defecto mantiene el primer registro y elimina las demás duplicados\n",
        "df = df_original.copy()\n",
        "dfsinduplicados1 = df.drop_duplicates(subset=['nombre', 'correo'])\n",
        "dfsinduplicados1\n"
      ],
      "metadata": {
        "id": "jaXd6_YnLUEa"
      },
      "execution_count": null,
      "outputs": []
    },
    {
      "cell_type": "markdown",
      "source": [
        "# <font color='056938'> **Datos similares** </font>\n",
        "\n",
        "En algunos casos estamos interesados en identificar registros que son bastante similares pero no identicos. Este tipo de registros son usualmente debidos a errores en la entrada de los datos.\n",
        "\n",
        "En nuestra base de datos los registros con indices `0` y `5`"
      ],
      "metadata": {
        "id": "MMoSUyPeaX0h"
      }
    },
    {
      "cell_type": "code",
      "source": [
        "df = df_original.copy()\n",
        "df.iloc[[0,5]]"
      ],
      "metadata": {
        "id": "k3trlp_udekw"
      },
      "execution_count": null,
      "outputs": []
    },
    {
      "cell_type": "markdown",
      "source": [
        "Existen formas de identificar dichos registros usando librerias como `fuzzywuzzy`.\n",
        "\n",
        "`fuzzywuzzy` es un paquete de Python utilizado para comparar cadenas de texto y realizar coincidencias difusas (fuzzy matching), lo que resulta útil cuando necesitas comparar dos cadenas que no son exactamente iguales, pero son similares. Se basa en la distancia de Levenshtein para calcular las diferencias entre secuencias de caracteres"
      ],
      "metadata": {
        "id": "vAW7D6D7dqqW"
      }
    },
    {
      "cell_type": "markdown",
      "source": [
        "Note por ejemplo, que podemos calcular el nivel de similaridad entre estos dos registros:\n"
      ],
      "metadata": {
        "id": "1ZocpwO2e4Q2"
      }
    },
    {
      "cell_type": "code",
      "source": [
        "!pip install fuzzywuzzy\n",
        "!pip install python-Levenshtein"
      ],
      "metadata": {
        "id": "rbO-4c29e8xG"
      },
      "execution_count": null,
      "outputs": []
    },
    {
      "cell_type": "code",
      "source": [
        "from fuzzywuzzy import fuzz\n",
        "\n",
        "# Comparación simple\"Hola Mundo\"\n",
        "puntuacion = fuzz.ratio(df.iloc[0]['correo'], df.iloc[5]['correo'])\n",
        "puntuacion"
      ],
      "metadata": {
        "id": "LqNvL3XUfL3t"
      },
      "execution_count": null,
      "outputs": []
    },
    {
      "cell_type": "markdown",
      "source": [
        "### <font color='157699'> **Ejercicio** </font>\n",
        "\n",
        "Cree una máscara que identifique los registros que tienen un grado de similaridad con una puntuación de más de 90."
      ],
      "metadata": {
        "id": "stQeSDEPfnE9"
      }
    },
    {
      "cell_type": "code",
      "source": [],
      "metadata": {
        "id": "rwevd3tbfyPd",
        "collapsed": true
      },
      "execution_count": null,
      "outputs": []
    },
    {
      "cell_type": "markdown",
      "source": [
        "# <font color='056938'> **Datos faltantes** </font>\n",
        "\n",
        "\n",
        "\n",
        "Los **valores faltantes** son puntos de datos que están ausentes para una variable específica en un conjunto de datos. Pueden estar representados de varias formas, como celdas en blanco, valores nulos, `null`,  o símbolos especiales como `NA` o `None`. Estos puntos de datos faltantes suponen un desafío importante en el análisis de datos y pueden llevar a resultados inexactos o sesgados.\n",
        "\n"
      ],
      "metadata": {
        "id": "oscPg6iNVuGA"
      }
    },
    {
      "cell_type": "markdown",
      "source": [
        "Hay muchos tipos de datos faltantes y muchas razones por las cuales pueden ocurrir. Estos dos factores son decisivos al enfrentar la ausencia de datos en el momento de analizar los resultados, donde lo principal es decidir si la pérdida es aleatoria, es decir, afecta por igual a todos los individuos, o bien puede ser debida a una razón o razones específicas que pueden introducir sesgos que invaliden los resultados.\n"
      ],
      "metadata": {
        "id": "dNZ233pYluB-"
      }
    },
    {
      "cell_type": "markdown",
      "source": [
        "## <font color='8EC044'> **Tipos de datos faltantes** </font>\n",
        "\n",
        "Una forma útil de clasificar los datos faltantes es de acuerdo a la forma como estos se presentan en los datos. Es decir, si la pérdida es aleatoria y afecta por igual a todos los individuos,  "
      ],
      "metadata": {
        "id": "9zyzBjOLl7xd"
      }
    },
    {
      "cell_type": "markdown",
      "source": [
        "### <font color='157699'> **Datos Faltantes Completamente al Azar (`MCAR`)** </font>\n",
        "La probabilidad de que un valor esté faltante no depende ni de las variables observadas ni de los valores faltantes mismos. Es como si los datos faltantes fueran seleccionados al azar.\n",
        "* **Ejemplo:** Imagina una encuesta donde algunas preguntas no son respondidas debido a un error en la impresión de la encuesta. La probabilidad de que una pregunta específica esté sin responder no depende de ninguna otra pregunta ni de la respuesta a esa pregunta.\n"
      ],
      "metadata": {
        "id": "NFFLuww5lOA-"
      }
    },
    {
      "cell_type": "markdown",
      "source": [
        "\n",
        "### <font color='157699'> **Datos Faltantes al Azar (`MAR`)** </font>\n",
        "\n",
        "La probabilidad de que un valor esté faltante depende de otras variables observadas en el conjunto de datos, pero no del valor faltante en sí.\n",
        "* **Ejemplo:** En una encuesta sobre hábitos de ejercicio, es más probable que las personas mayores no reporten su peso. La probabilidad de que el peso esté faltante depende de la edad (una variable observada), pero no del peso real de la persona.\n",
        "\n"
      ],
      "metadata": {
        "id": "tValD4rbmvek"
      }
    },
    {
      "cell_type": "markdown",
      "source": [
        "### <font color='157699'> **Datos Faltantes No al Azar (`MNAR`)** </font>\n",
        "\n",
        "La probabilidad de que un valor esté faltante depende del valor faltante mismo o de otras variables no observadas. Es el tipo de datos faltantes más difícil de manejar.\n",
        "* **Ejemplo:** En un estudio sobre depresión, las personas con depresión severa pueden ser menos propensas a responder preguntas sobre su estado de ánimo. La probabilidad de que una respuesta sobre el estado de ánimo esté faltante depende del estado de ánimo real de la persona (un valor faltante).\n",
        "\n",
        "  Las personas con mayores ingresos pueden negarse a compartir la información exacta en una encuesta o cuestionario que pregunte sobre ingresos.\n",
        "\n"
      ],
      "metadata": {
        "id": "1EfA6Skym5jE"
      }
    },
    {
      "cell_type": "markdown",
      "source": [
        "\n",
        "\n",
        "La identificación del tipo de datos faltantes es crucial porque determina el método adecuado para tratarlos. Los datos `MCAR` y `MAR` pueden ser manejados con técnicas más simples como la eliminación de casos con datos faltantes o la imputación de valores faltantes. Sin embargo, los datos `MNAR` requieren métodos más complejos y específicos.\n",
        "\n",
        "\n"
      ],
      "metadata": {
        "id": "owvxba0PnxaM"
      }
    },
    {
      "cell_type": "markdown",
      "source": [
        "### <font color='157699'> **Ejercicio** </font>\n",
        "\n",
        "Considere el siguiente dataframe en el que se han considerado los registros de varios mimebros del personal adminitrativo de la universidad, considerando tres variables adicionales:\n",
        "\n",
        "\n",
        "* `genero`\n",
        "* `experiencia`: años de experiencia\n",
        "* `ingreso`: Ingresos mensuales\n",
        "* `ansiedad`: si ha experimentado ansiedad en el último mes\n",
        "\n"
      ],
      "metadata": {
        "id": "XLs90nSdvAtF"
      }
    },
    {
      "cell_type": "code",
      "source": [
        "import pandas as pd\n",
        "!gdown 1-JfcYV-ErOImuAmStW2fTDEzNTesCg80\n",
        "df_original = pd.read_csv('registros_v2.csv')\n",
        "df = df_original.copy()\n",
        "df\n"
      ],
      "metadata": {
        "id": "1JVbuiTVtOKO"
      },
      "execution_count": null,
      "outputs": []
    },
    {
      "cell_type": "markdown",
      "source": [
        "Discuta para los datos faltantes cuál tipo considera usted que podrían considerarse"
      ],
      "metadata": {
        "id": "n9jTjX-Ove28"
      }
    },
    {
      "cell_type": "markdown",
      "source": [
        "## <font color='8EC044'> **¿Cómo se detectan los datos faltantes?** </font>\n",
        "\n",
        "Anteriormente ya habiamos discutido la función `info()` de pandas que nos entrega información sobre los datos no nulos para cada una de las variables\n",
        "\n"
      ],
      "metadata": {
        "id": "GlRnEJbkB29_"
      }
    },
    {
      "cell_type": "code",
      "source": [
        "df.info()"
      ],
      "metadata": {
        "id": "KWPzz7gFx1Hz"
      },
      "execution_count": null,
      "outputs": []
    },
    {
      "cell_type": "markdown",
      "source": [
        "Las funciones `isnull()` y `notnull()` de la libreria `pandas` nos indican cuando un valor es nulo o no, respectivamente.\n",
        "\n",
        "Podemos usarlo para obtener el número de registros nulos por cada columna"
      ],
      "metadata": {
        "id": "I2sf5FLKyaVJ"
      }
    },
    {
      "cell_type": "code",
      "source": [
        "df.isnull().sum()"
      ],
      "metadata": {
        "id": "GWpqcqBjypLr"
      },
      "execution_count": null,
      "outputs": []
    },
    {
      "cell_type": "markdown",
      "source": [
        "Esta misma función puede usarse para filtrar aquellos registros que tienen variables nulos en el dataframe, por ej"
      ],
      "metadata": {
        "id": "xZIjC1g_zHnC"
      }
    },
    {
      "cell_type": "code",
      "source": [
        "rows_with_nulls = df[df.isnull().any(axis=1)]\n",
        "rows_with_nulls"
      ],
      "metadata": {
        "id": "hBdPsThszjRB"
      },
      "execution_count": null,
      "outputs": []
    },
    {
      "cell_type": "markdown",
      "source": [
        "Tambien puede usarse para  obtener los registros con valores nulos en alguna columna en particular"
      ],
      "metadata": {
        "id": "Y_X8deDv0Adw"
      }
    },
    {
      "cell_type": "code",
      "source": [
        "mask = pd.isnull(df['ansiedad'])\n",
        "df[mask]"
      ],
      "metadata": {
        "id": "DqE3pAdvzNbC"
      },
      "execution_count": null,
      "outputs": []
    },
    {
      "cell_type": "markdown",
      "source": [
        "### <font color='157699'> **Ejercicio** </font>"
      ],
      "metadata": {
        "id": "dXqXxHoPBe09"
      }
    },
    {
      "cell_type": "markdown",
      "source": [
        "IDentifique las columnas que  tienen por lo menos un dato faltante"
      ],
      "metadata": {
        "id": "M7I8NRyF1UfP"
      }
    },
    {
      "cell_type": "code",
      "source": [
        "# Escriba aqui su respuesta\n"
      ],
      "metadata": {
        "id": "_IwoQCep1d1P"
      },
      "execution_count": null,
      "outputs": []
    },
    {
      "cell_type": "markdown",
      "source": [
        "## <font color='8EC044'> **Estrategias para el tratamiento de datos faltantes** </font>"
      ],
      "metadata": {
        "id": "7ReDR6D7VBwk"
      }
    },
    {
      "cell_type": "markdown",
      "source": [
        "Existen diversas estrategias para gestionar los datos faltantes en una base de datos. Estas podrian clasificarse en dos tipos:\n",
        "\n",
        "\n",
        "*   **Eliminar entradas**: se refiere al proceso de elimnar variables (columnas) o registros (filas) para los cuales existen valores faltantes.  \n",
        "*   **imputar valores**: se refiere al proceso de reemplazar los valores faltantes en un conjunto de datos por estimaciones o valores plausibles\n",
        "\n",
        "El uso de una estrategia u otra dependerá del tipo de  datos faltantes, pero a su veces generará consecuencias diferentes en los análisis y resultados\n",
        "\n"
      ],
      "metadata": {
        "id": "Joqn-uoVlCOh"
      }
    },
    {
      "cell_type": "markdown",
      "source": [
        "### <font color='157699'> **Eliminar entradas** </font>"
      ],
      "metadata": {
        "id": "ncjYJEz_lwQ4"
      }
    },
    {
      "cell_type": "markdown",
      "source": [
        "En esta alternativa se opta por filtrar, no incluir en el análisis,variables o registros para los que existen datos faltantes.\n",
        "\n",
        "Esta aproximación tiene como consecuencia una perdida de información. Que, dado el caso en el que los datos faltantes sean númerosos, podria ser considerable.\n",
        "\n",
        "Puede optarse por:\n",
        "* Eliminar  las variables (columnas) para las que existen datos faltantes.  Esto es apropiado cuando los datos faltantes se concentran en unas pocas columnas y para cada una de ellas el número de faltantes es significativo\n",
        "* Eliminar los registros que tienen datos faltantes.\n",
        "\n",
        "Este tipo de estrategias se ajusta a mejor a datos faltantes del tipo `MCAR` o `MAR`, siempre que  la pérdida de información asociada no impacte significativamente el análisis"
      ],
      "metadata": {
        "id": "sKH1wm1EmcZu"
      }
    },
    {
      "cell_type": "markdown",
      "source": [
        "Para eliminar las columnas o filas que tienes datos faltantes usamos el método `dropna()`. Note que por defecto, se eliminan los registros que tienen algun dato faltante.\n",
        "\n"
      ],
      "metadata": {
        "id": "NeUpcYP_t69s"
      }
    },
    {
      "cell_type": "code",
      "source": [
        "df.dropna()"
      ],
      "metadata": {
        "id": "aWvXkPHWvcwZ"
      },
      "execution_count": null,
      "outputs": []
    },
    {
      "cell_type": "markdown",
      "source": [
        "Para eliminar las columnas que tienen datos faltantes se usa el argumento `df.dropna(axis=1)`"
      ],
      "metadata": {
        "id": "Hbv-hKYGvu2Q"
      }
    },
    {
      "cell_type": "code",
      "source": [
        "df.dropna(axis=1)"
      ],
      "metadata": {
        "id": "uLeKpAhSv8f5"
      },
      "execution_count": null,
      "outputs": []
    },
    {
      "cell_type": "markdown",
      "source": [
        "Adicionalmente, hay otros parametros para controlar que filas o columnas eliminar, algunos de ellos son:\n",
        "\n",
        "| Argumento  | Descripción                                                                                                     | Valores posibles                                  | Valor predeterminado |\n",
        "|------------|-----------------------------------------------------------------------------------------------------------------|---------------------------------------------------|----------------------|\n",
        "| `axis`     | Determina si se eliminan filas o columnas con valores faltantes.                                                 | `0`: filas, `1`: columnas | `0`                  |\n",
        "| `how`      | Especifica si se eliminan filas/columnas si **algún** o **todos** los valores están faltantes.                    | `'any'`: si alguno, `'all'`: si todos              | `'any'`              |\n",
        "| `thresh`   | Requiere un número mínimo de valores no faltantes para evitar eliminar la fila o columna.                        | Número entero                                      | `None`               |\n",
        "| `subset`   | Lista de filas o columnas específicas para considerar al verificar valores faltantes.                            | Lista de nombres de columnas/índices               | `None`               |\n",
        "| `inplace`  | Si se establece en `True`, modifica el DataFrame original sin devolver una copia.                                | `True` o `False`                                   | `False`              |\n"
      ],
      "metadata": {
        "id": "hsiicTHbuzXZ"
      }
    },
    {
      "cell_type": "markdown",
      "source": [
        "#### <font color='46B8A9'> **Ejercicio** </font>\n",
        "\n",
        "Considere la siguiente instrucción, interprete que entradas se eliminan"
      ],
      "metadata": {
        "id": "qwdJSSiNwc-_"
      }
    },
    {
      "cell_type": "code",
      "source": [
        "df.dropna(axis=0, thresh=7)"
      ],
      "metadata": {
        "id": "UX0wbTNyw6QR"
      },
      "execution_count": null,
      "outputs": []
    },
    {
      "cell_type": "markdown",
      "source": [
        "### <font color='157699'> **Imputar datos** </font>\n",
        "\n",
        "Al imputar valores a los datos faltantes, es importante, entre otros aspcctos, identificar que tipo de variable es aquella para la que se quiere imputar el dato, el número de datos faltantes en dicha variable"
      ],
      "metadata": {
        "id": "QXYzZTPFxkXi"
      }
    },
    {
      "cell_type": "markdown",
      "source": [
        "#### <font color='46B8A9'> **Imputar con un estadístico de tendencia** </font>\n",
        "\n",
        "Las columnas en el conjunto de datos que tienen valores numéricos continuos pueden ser reemplazadas con la media, mediana o moda de los valores restantes en la columna.\n",
        "\n",
        "La imputación con media y mediana puede proporcionar una buena estimación de los valores faltantes, respectivamente, para datos distribuidos normalmente y datos sesgados. Este enfoque es popularmente utilizado cuando hay un pequeño número de valores faltantes en los datos. Sin embargo, cuando hay muchos valores faltantes, los resultados de la media o la mediana pueden ocasionar una pérdida de variación en los datos. Así mismo, la imputación con la media es sensible a los valores atípicos."
      ],
      "metadata": {
        "id": "5or8c6TTyc6n"
      }
    },
    {
      "cell_type": "markdown",
      "source": [
        "Para imputar un valor a un dato faltante usamos la función `fillna()`. Note por ejemplo como podemos imputar un valor para los datos faltantes en la columna `tiempo_activo`. Note que hemos obviado la instrucción `inplace = True` para evitar cambiar el dataframe original y así poder usarlo en los siguientes ejemplos"
      ],
      "metadata": {
        "id": "skAQaqPj0U_N"
      }
    },
    {
      "cell_type": "code",
      "source": [
        "df['tiempo_activo'].fillna(df['tiempo_activo'].mean())"
      ],
      "metadata": {
        "id": "8J5R1ijczk0A"
      },
      "execution_count": null,
      "outputs": []
    },
    {
      "cell_type": "markdown",
      "source": [
        "En algunas ocasiones, podriamos saber que los valores de las variables para las que hay datos faltantes, tienen comportamientos distintos para grupos diferentes en la base de datos. En esto casos es recomendable hacer la imputación teniendo en cuenta estos grupos. Para ello, usamos el método de `groupby()` que habiamos discutido anteriormente."
      ],
      "metadata": {
        "id": "i71YVEWXzywX"
      }
    },
    {
      "cell_type": "code",
      "source": [
        "df['tiempo_activo'].fillna(df.groupby('genero')['tiempo_activo'].transform('mean'))"
      ],
      "metadata": {
        "id": "N_vdmBf0A6Vs"
      },
      "execution_count": null,
      "outputs": []
    },
    {
      "cell_type": "markdown",
      "source": [
        "#### <font color='46B8A9'> **Imputar con un estadístico de frecuencia** </font>\n",
        "\n",
        "Cuando los valores faltantes provienen de columnas categóricas (de tipo cadena o numéricas), los valores faltantes pueden ser reemplazados con la categoría más frecuente. Si el número de valores faltantes es muy grande, entonces se pueden reemplazar con una nueva categoría."
      ],
      "metadata": {
        "id": "s4m2NkNoR5d9"
      }
    },
    {
      "cell_type": "markdown",
      "source": [
        "Veamos el número de valores faltantes en la variable `ansiedad`"
      ],
      "metadata": {
        "id": "T1O4hFJqSbxz"
      }
    },
    {
      "cell_type": "code",
      "source": [
        "df['ansiedad'].value_counts(dropna=False)"
      ],
      "metadata": {
        "id": "wgXtMqZrSgVo"
      },
      "execution_count": null,
      "outputs": []
    },
    {
      "cell_type": "markdown",
      "source": [
        "\n",
        "\n",
        "---\n",
        "**En cuál de los tipos de datos faltantes clasificaría aquuellos pertenecientes a la variable `ansiedad`?**\n",
        "\n",
        "\n",
        "---\n",
        "\n",
        "\n"
      ],
      "metadata": {
        "id": "533EkmadTEVY"
      }
    },
    {
      "cell_type": "markdown",
      "source": [
        "Dado que la gran mayoria de los datos tienen categoria `no`, una aproximación conservadora sería imputar los datos faltantes con este valor"
      ],
      "metadata": {
        "id": "IyeZ_l_bSuI1"
      }
    },
    {
      "cell_type": "code",
      "source": [
        "df['ansiedad'].fillna('no')"
      ],
      "metadata": {
        "id": "YFOfVYRgS-jf"
      },
      "execution_count": null,
      "outputs": []
    },
    {
      "cell_type": "markdown",
      "source": [
        "Cuando el número de valores faltantes son muchos, podríamos imputar un valor de referencia que nos permita interpretar en el análisis que dichos valores eran datos faltantes"
      ],
      "metadata": {
        "id": "nj_L7N37Wqyw"
      }
    },
    {
      "cell_type": "code",
      "source": [
        "df['ansiedad'].fillna('99')"
      ],
      "metadata": {
        "id": "Wrft-N4BXNuA"
      },
      "execution_count": null,
      "outputs": []
    },
    {
      "cell_type": "markdown",
      "source": [
        "#### <font color='46B8A9'> **Imputar con valores adyacentes** </font>\n",
        "\n",
        "El relleno hacia adelante (`ffill`) y el relleno hacia atrás (`bfill`) son métodos utilizados para llenar valores faltantes llevando hacia adelante el último valor observado que no está faltante (para `ffill`) o llevando hacia atrás el siguiente valor observado que no está faltante (para `bfill`). Estos métodos son especialmente útiles para datos de series temporales."
      ],
      "metadata": {
        "id": "Hp4n0G8TTfQa"
      }
    },
    {
      "cell_type": "code",
      "source": [
        "import numpy as np\n",
        "\n",
        "df.sort_values(by='timestamp', ascending=True, inplace=True)\n",
        "df.reset_index(drop=True,inplace=True)\n",
        "df.loc[6, 'timestamp'] = np.nan\n",
        "df"
      ],
      "metadata": {
        "id": "Q3QJ8XLtUMB_"
      },
      "execution_count": null,
      "outputs": []
    },
    {
      "cell_type": "code",
      "source": [
        "df['timestamp'].fillna(method='ffill')"
      ],
      "metadata": {
        "id": "liGyA44vVy2o"
      },
      "execution_count": null,
      "outputs": []
    },
    {
      "cell_type": "markdown",
      "source": [
        "De igual forma, podriamos aplicarlo para todas las columnas del dataframe o un subconjunto de estas:\n"
      ],
      "metadata": {
        "id": "J7uJGzMaWRts"
      }
    },
    {
      "cell_type": "code",
      "source": [
        "df.bfill()"
      ],
      "metadata": {
        "id": "2sEBAXFwWXfp"
      },
      "execution_count": null,
      "outputs": []
    },
    {
      "cell_type": "markdown",
      "source": [
        "\n",
        "#### <font color='46B8A9'> **Imputación basada en modelo (Regresion)** </font>\n",
        "\n",
        "Para la imputación es posible utilizar la correlación entre la variable que contiene el valor faltante y otras variables.\n",
        "\n",
        "En este método, se utilizan modelos predictivos para imputar valores faltantes basándose en otras características del conjunto de datos.\n",
        "\n",
        "El modelo de regresión o clasificación se puede usar para la predicción de valores faltantes, dependiendo de la naturaleza (categórica o continua) de la característica que tiene el valor faltante.\n",
        "\n"
      ],
      "metadata": {
        "id": "0pXSwyPFhhUH"
      }
    },
    {
      "cell_type": "markdown",
      "source": [
        "Note que en este caso deberemos usar modelos que de momento no se han cubierto en el curso, pero para los cuales ilustraremos su forma de uso:"
      ],
      "metadata": {
        "id": "VTYH54rNh-al"
      }
    },
    {
      "cell_type": "code",
      "source": [
        "from sklearn.linear_model import LinearRegression\n",
        "\n",
        "# Seleccionamos las columnas de interes\n",
        "df_filtered = df[['tiempo_activo',\t'genero',\t'Experiencia', 'ingreso']]\n",
        "# filtramos los datos eliminando los nulos excepto para la columna ingreso\n",
        "df_filtered = df_filtered.dropna(subset=['tiempo_activo', 'genero'])\n",
        "# recodificamos la columna genero con 0 y 1\n",
        "df_filtered = pd.get_dummies(df_filtered, columns=['genero'], drop_first=True)\n",
        "\n",
        "# Partimos los datos entre los que tienen el ingreso como faltane y los que no\n",
        "test_data = df_filtered[df_filtered[\"ingreso\"].isnull()==True]\n",
        "traindf = df_filtered[df_filtered[\"ingreso\"].isnull()==False]\n",
        "\n",
        "y_train = traindf[\"ingreso\"]\n",
        "X_train = traindf.drop(\"ingreso\", axis=1)\n",
        "X_test = test_data.drop(\"ingreso\", axis=1)\n",
        "\n",
        "# Llevamos a cabo la regresion\n",
        "model = LinearRegression()\n",
        "model.fit(X_train, y_train)\n",
        "\n",
        "# Obtenemos pa predicción\n",
        "y_pred = model.predict(X_test)\n",
        "\n",
        "test_data['ingreso'] = y_pred\n",
        "test_data['ingreso']"
      ],
      "metadata": {
        "id": "U12z3xsFiJKF"
      },
      "execution_count": null,
      "outputs": []
    },
    {
      "cell_type": "markdown",
      "source": [
        "#### <font color='46B8A9'> **Interpolar** </font>\n",
        "\n",
        "La interpolación es una técnica utilizada para llenar valores faltantes basándose en los valores de los puntos de datos adyacentes. Esta técnica se usa principalmente en datos de series temporales o en situaciones donde se espera que los puntos de datos faltantes varíen de manera suave o sigan una cierta tendencia. También se utiliza en casos de datos muestreados de manera regular.\n",
        "\n",
        "La interpolación puede entenderse como un promedio ponderado. Los pesos están relacionados inversamente con la distancia a los puntos vecinos."
      ],
      "metadata": {
        "id": "xC6CnY4bYM_W"
      }
    },
    {
      "cell_type": "code",
      "source": [
        "# Linear interpolation for a specific column\n",
        "df['tiempo_activo'].interpolate(method='linear')"
      ],
      "metadata": {
        "id": "4Kmtb-XAYtyf"
      },
      "execution_count": null,
      "outputs": []
    },
    {
      "cell_type": "markdown",
      "source": [
        "Similarmente puede hacerse para todas las columnas numericas del dataFrame"
      ],
      "metadata": {
        "id": "GFrVcghMY-LP"
      }
    },
    {
      "cell_type": "code",
      "source": [
        "# Linear interpolation for the entire DataFrame\n",
        "df.interpolate(method='linear')"
      ],
      "metadata": {
        "id": "BlOLSeOTY4JQ"
      },
      "execution_count": null,
      "outputs": []
    },
    {
      "cell_type": "markdown",
      "source": [
        "#### <font color='46B8A9'> **`k` vecino más cercanos** </font>\n",
        "\n",
        "Una estrategia similar, imputa un valor para el dato faltante  en función de los valores de sus vecinos más cercanos en el espacio de características (`features`). Una de las técnicas más empleadas en este contexto es k-Vecinos Más Cercanos (`KNN`)\n",
        "\n",
        "La idea es encontrar los k puntos de datos más cercanos y utilizar sus valores para imputar los valores faltantes."
      ],
      "metadata": {
        "id": "52rVKG6tbYC2"
      }
    },
    {
      "cell_type": "markdown",
      "source": [
        "Considere por ejemplo el caso en el que queremos imputar los datos faltantes en `ingeso`,  `tiempo_activo` y `Experiencia`con base en la registros con caracteristicas similares"
      ],
      "metadata": {
        "id": "exp-ZWVCTi18"
      }
    },
    {
      "cell_type": "code",
      "source": [
        "data = df[['ingreso', 'tiempo_activo', 'Experiencia']]\n",
        "data\n"
      ],
      "metadata": {
        "id": "btB26QpHfZU3"
      },
      "execution_count": null,
      "outputs": []
    },
    {
      "cell_type": "code",
      "source": [
        "from sklearn.impute import KNNImputer\n",
        "import pandas as pd\n",
        "\n",
        "# Create a KNN imputer\n",
        "imputer = KNNImputer(n_neighbors=3)\n",
        "\n",
        "# Perform imputation\n",
        "data_imputed = imputer.fit_transform(data)\n",
        "imputed_df = pd.DataFrame(data_imputed, columns=data.columns)\n",
        "imputed_df"
      ],
      "metadata": {
        "id": "ewcQWaMDbhvs"
      },
      "execution_count": null,
      "outputs": []
    },
    {
      "cell_type": "markdown",
      "source": [
        "#### <font color='46B8A9'> **Ejercicio** </font>\n",
        "---\n",
        "\n",
        "Considere el siguiente datframe de los municipios de Colombia. Discuta como gestionaría los datos faltantes"
      ],
      "metadata": {
        "id": "b7daQK6NQzow"
      }
    },
    {
      "cell_type": "code",
      "source": [
        "import pandas as pd\n",
        "\n",
        "!gdown 1UMxngfK1xVnSz5ZYksEln9pltF_mAIcG\n",
        "df = pd.read_csv(\"municipios.csv\")\n",
        "df"
      ],
      "metadata": {
        "id": "VRQch76lpUaW"
      },
      "execution_count": null,
      "outputs": []
    }
  ]
}