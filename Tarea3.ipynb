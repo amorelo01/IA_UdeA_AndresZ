{
  "nbformat": 4,
  "nbformat_minor": 0,
  "metadata": {
    "colab": {
      "private_outputs": true,
      "provenance": [],
      "include_colab_link": true
    },
    "kernelspec": {
      "name": "python3",
      "display_name": "Python 3"
    },
    "language_info": {
      "name": "python"
    }
  },
  "cells": [
    {
      "cell_type": "markdown",
      "metadata": {
        "id": "view-in-github",
        "colab_type": "text"
      },
      "source": [
        "<a href=\"https://colab.research.google.com/github/amorelo01/IA_UdeA_AndresZ/blob/main/Tarea3.ipynb\" target=\"_parent\"><img src=\"https://colab.research.google.com/assets/colab-badge.svg\" alt=\"Open In Colab\"/></a>"
      ]
    },
    {
      "cell_type": "markdown",
      "source": [
        "<p><img alt=\"banner\" height=\"252px\" width=\"1080px\" src=\"https://docs.google.com/uc?export=download&id=18D9zTLyHjMFbwtI2Eenr0l5oGeH9a1Wq\"  align=\"center\" hspace=\"10px\" vspace=\"0px\" ></p>"
      ],
      "metadata": {
        "id": "UBiWyvZd12Y5"
      }
    },
    {
      "cell_type": "markdown",
      "source": [
        "# <font color='056938'> **Lectura de datos** </font>"
      ],
      "metadata": {
        "id": "x8_ngLln16Sa"
      }
    },
    {
      "cell_type": "code",
      "source": [
        "import pandas as pd\n",
        "\n",
        "!gdown 1uq3YdghIVZf2pByMRvcxeV0lvNVbzGrn\n",
        "df = pd.read_excel('info_2024.xlsx')\n",
        "df"
      ],
      "metadata": {
        "id": "feqDsdgoPhpS"
      },
      "execution_count": null,
      "outputs": []
    },
    {
      "cell_type": "code",
      "source": [
        "df2 = df.head()\n",
        "# df2['material_encoded'] = pd.get_dummies(df2['material'])\n",
        "df['transformación'].unique()\n"
      ],
      "metadata": {
        "id": "PCw_fExBXgCX"
      },
      "execution_count": null,
      "outputs": []
    },
    {
      "cell_type": "code",
      "source": [
        "df2"
      ],
      "metadata": {
        "id": "rT2dUS4kYdUp"
      },
      "execution_count": null,
      "outputs": []
    },
    {
      "cell_type": "markdown",
      "source": [
        "## <font color='8EC044'> **Normalizar columnas** </font>"
      ],
      "metadata": {
        "id": "uZF2i4um2rci"
      }
    },
    {
      "cell_type": "markdown",
      "source": [
        "## <font color='8EC044'> **Duplicados y Faltantes** </font>"
      ],
      "metadata": {
        "id": "vV47Jyoo2yjw"
      }
    },
    {
      "cell_type": "markdown",
      "source": [
        "## <font color='8EC044'> **Categorizar** </font>"
      ],
      "metadata": {
        "id": "WxYmqnwN24KY"
      }
    }
  ]
}