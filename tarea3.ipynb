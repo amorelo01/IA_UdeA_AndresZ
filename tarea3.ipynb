{
  "nbformat": 4,
  "nbformat_minor": 0,
  "metadata": {
    "colab": {
      "private_outputs": true,
      "provenance": [],
      "include_colab_link": true
    },
    "kernelspec": {
      "name": "python3",
      "display_name": "Python 3"
    },
    "language_info": {
      "name": "python"
    }
  },
  "cells": [
    {
      "cell_type": "markdown",
      "metadata": {
        "id": "view-in-github",
        "colab_type": "text"
      },
      "source": [
        "<a href=\"https://colab.research.google.com/github/amorelo01/IA_UdeA_AndresZ/blob/main/tarea3.ipynb\" target=\"_parent\"><img src=\"https://colab.research.google.com/assets/colab-badge.svg\" alt=\"Open In Colab\"/></a>"
      ]
    },
    {
      "cell_type": "markdown",
      "source": [
        "<p><img alt=\"banner\" height=\"252px\" width=\"1080px\" src=\"https://docs.google.com/uc?export=download&id=18D9zTLyHjMFbwtI2Eenr0l5oGeH9a1Wq\"  align=\"center\" hspace=\"10px\" vspace=\"0px\" ></p>"
      ],
      "metadata": {
        "id": "UBiWyvZd12Y5"
      }
    },
    {
      "cell_type": "markdown",
      "source": [
        "# <font color='056938'> **Lectura de datos** </font>"
      ],
      "metadata": {
        "id": "x8_ngLln16Sa"
      }
    },
    {
      "cell_type": "code",
      "source": [
        "import pandas as pd\n",
        "\n",
        "!gdown 1uq3YdghIVZf2pByMRvcxeV0lvNVbzGrn\n",
        "df = pd.read_excel('info_2024.xlsx')\n",
        "df"
      ],
      "metadata": {
        "id": "feqDsdgoPhpS"
      },
      "execution_count": null,
      "outputs": []
    },
    {
      "cell_type": "code",
      "source": [
        "df2 = df.head()\n",
        "# df2['material_encoded'] = pd.get_dummies(df2['material'])\n",
        "df['transformación'].unique()\n"
      ],
      "metadata": {
        "id": "PCw_fExBXgCX"
      },
      "execution_count": null,
      "outputs": []
    },
    {
      "cell_type": "code",
      "source": [
        "df2"
      ],
      "metadata": {
        "id": "rT2dUS4kYdUp"
      },
      "execution_count": null,
      "outputs": []
    },
    {
      "cell_type": "markdown",
      "source": [
        "## <font color='8EC044'> **Normalizar columnas** </font>"
      ],
      "metadata": {
        "id": "uZF2i4um2rci"
      }
    },
    {
      "cell_type": "code",
      "source": [
        "# Lowercase and trim spaces\n",
        "for col in ['direccion', 'material', 'transformacion']:\n",
        "    df[col] = df[col].str.lower().str.strip()\n",
        "\n",
        "# Example: Replace common address abbreviations\n",
        "df['direccion'] = df['direccion'].replace({'cll': 'calle', 'cra': 'carrera'}, regex=True)"
      ],
      "metadata": {
        "id": "UWgVabzhGF0z"
      },
      "execution_count": null,
      "outputs": []
    },
    {
      "cell_type": "markdown",
      "source": [
        "## <font color='8EC044'> **Duplicados y Faltantes** </font>"
      ],
      "metadata": {
        "id": "vV47Jyoo2yjw"
      }
    },
    {
      "cell_type": "code",
      "source": [
        "# Fill missing values\n",
        "df.fillna({'direccion': 'unknown', 'material': 'unknown', 'transformacion': 'unknown'}, inplace=True)\n",
        "\n",
        "# Or, to drop any row with missing critical data:\n",
        "# df.dropna(subset=['direccion', 'material', 'transformacion'], inplace=True)"
      ],
      "metadata": {
        "id": "gYzZrY_UGKms"
      },
      "execution_count": null,
      "outputs": []
    },
    {
      "cell_type": "code",
      "source": [
        "# Remove exact duplicate rows\n",
        "df = df.drop_duplicates()"
      ],
      "metadata": {
        "id": "ce6cZqPTGQ6p"
      },
      "execution_count": null,
      "outputs": []
    },
    {
      "cell_type": "markdown",
      "source": [
        "## <font color='8EC044'> **Categorizar** </font>"
      ],
      "metadata": {
        "id": "WxYmqnwN24KY"
      }
    },
    {
      "cell_type": "code",
      "source": [
        "# Split by comma to get lists\n",
        "df['material_list'] = df['material'].str.split(',')\n",
        "df['transformacion_list'] = df['transformacion'].str.split(',')\n",
        "\n",
        "# One-hot encode (categorize) 'material'\n",
        "material_dummies = df['material_list'].explode().str.strip().str.get_dummies().groupby(level=0).sum()\n",
        "df = pd.concat([df, material_dummies], axis=1)\n",
        "\n",
        "# One-hot encode 'transformacion'\n",
        "transformacion_dummies = df['transformacion_list'].explode().str.strip().str.get_dummies().groupby(level=0).sum()\n",
        "df = pd.concat([df, transformacion_dummies], axis=1)\n",
        "\n",
        "# Drop helper columns if you want\n",
        "df = df.drop(['material_list', 'transformacion_list'], axis=1)"
      ],
      "metadata": {
        "id": "tX1gNo7DGQDt"
      },
      "execution_count": null,
      "outputs": []
    },
    {
      "cell_type": "code",
      "source": [
        "df"
      ],
      "metadata": {
        "id": "B8wiIGDEG0N2"
      },
      "execution_count": null,
      "outputs": []
    }
  ]
}