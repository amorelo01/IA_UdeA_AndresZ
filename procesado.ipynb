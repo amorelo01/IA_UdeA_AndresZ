{
  "nbformat": 4,
  "nbformat_minor": 0,
  "metadata": {
    "colab": {
      "provenance": [],
      "authorship_tag": "ABX9TyPMvEf9g79pnwS6TgOZBIVa",
      "include_colab_link": true
    },
    "kernelspec": {
      "name": "python3",
      "display_name": "Python 3"
    },
    "language_info": {
      "name": "python"
    }
  },
  "cells": [
    {
      "cell_type": "markdown",
      "metadata": {
        "id": "view-in-github",
        "colab_type": "text"
      },
      "source": [
        "<a href=\"https://colab.research.google.com/github/amorelo01/IA_UdeA_AndresZ/blob/main/procesado.ipynb\" target=\"_parent\"><img src=\"https://colab.research.google.com/assets/colab-badge.svg\" alt=\"Open In Colab\"/></a>"
      ]
    },
    {
      "cell_type": "code",
      "execution_count": null,
      "metadata": {
        "id": "vI6CgvB_i21r"
      },
      "outputs": [],
      "source": [
        "import numpy as np\n",
        "import pandas as pd\n",
        "\n",
        "import matplotlib.pyplot as plt\n",
        "\n",
        "from sklearn.model_selection import train_test_split\n",
        "from sklearn.metrics import roc_auc_score\n",
        "from sklearn.preprocessing import LabelEncoder\n",
        "from sklearn.ensemble import RandomForestClassifier\n",
        "\n",
        "import warnings\n",
        "warnings.filterwarnings('ignore') \n",
        "\n",
        "import os\n",
        "for dirname, _, filenames in os.walk('/kaggle/input'):\n",
        "    for filename in filenames:\n",
        "        print(os.path.join(dirname, filename))"
      ]
    },
    {
      "cell_type": "code",
      "source": [
        "train = pd.read_csv('https://drive.google.com/uc?id=1OIsB4KWW429YJuwTMirBh8Y0jUbWwHwl', index_col='id')\n",
        "test = pd.read_csv('https://drive.google.com/uc?id=1m0CDh7iom9OohCpumZLsuM4qGixartab', index_col='id')\n",
        "submission = pd.read_csv('https://drive.google.com/uc?id=19kVehCVH3L77Rw93kHznZ2btyhC5B-zO', index_col='id')"
      ],
      "metadata": {
        "id": "T_sxCRbTkZkO"
      },
      "execution_count": null,
      "outputs": []
    },
    {
      "cell_type": "code",
      "source": [
        "for c in train.columns:\n",
        "    if train[c].dtype=='object': \n",
        "        lbl = LabelEncoder()\n",
        "        lbl.fit(list(train[c].values) + list(test[c].values))\n",
        "        train[c] = lbl.transform(train[c].values)\n",
        "        test[c] = lbl.transform(test[c].values)\n",
        "\n",
        "target = train.pop('target')\n",
        "        \n"
      ],
      "metadata": {
        "id": "s3IMKNB1k1il"
      },
      "execution_count": null,
      "outputs": []
    },
    {
      "cell_type": "markdown",
      "source": [
        "Se hace el <validation split>, con la función \"train_test_split\" de la sección \"model_selection\" de scikit-learn\n",
        "La idea es que apartir de la matriz de entrenamiento 'train' y usando los resultados de 'target', se saquen 4 sub-variables; \n",
        "X_train, X_test, y_train, y_test. Es decir, 2 matrices X y 2 vectores y, todas las filas son aleatorias con la condicion que se corresponden los 'X' con los 'y' respectivos"
      ],
      "metadata": {
        "id": "jnu5wYXy8s06"
      }
    },
    {
      "cell_type": "code",
      "source": [
        "X_train, X_test, y_train, y_test = train_test_split(train, target, train_size=0.60)\n",
        "clf = RandomForestClassifier(n_estimators=200,max_depth=7,n_jobs=-1) \n",
        "\n",
        "display(X_test.head)\n"
      ],
      "metadata": {
        "colab": {
          "base_uri": "https://localhost:8080/",
          "height": 1000
        },
        "id": "EnIGmnvpwECw",
        "outputId": "571c2c63-e737-4450-e629-16a32236aa22"
      },
      "execution_count": null,
      "outputs": [
        {
          "output_type": "display_data",
          "data": {
            "text/plain": [
              "<bound method NDFrame.head of         cat0  cat1  cat2  cat3  cat4  cat5  cat6  cat7  cat8  cat9  cat10  \\\n",
              "id                                                                          \n",
              "221880     1     5     0     0     6    33     0    19    13     0    168   \n",
              "448819     0     8     0     0     4    33     2     8     4    10     73   \n",
              "354206     0    11     2     1     4    33     0    36     5     0     64   \n",
              "152859     0     5     0     0     6    33     0    35     4     0    234   \n",
              "26039      0    12     0     1     4    33     2     6     4     4     79   \n",
              "...      ...   ...   ...   ...   ...   ...   ...   ...   ...   ...    ...   \n",
              "493091     0    10     0     0     5    33     0    30    20     5     58   \n",
              "77887      0     8     0     4     5    30     0     8    59     0     92   \n",
              "373824     0     8     6     0     4    33     2    22    60     2    140   \n",
              "133502     0    11     0     0     7    33     0    19    19     0    168   \n",
              "68147      1     8     0     3     4    33     0    30     3     4    159   \n",
              "\n",
              "        cat11  cat12  cat13  cat14  cat15  cat16  cat17  cat18     cont0  \\\n",
              "id                                                                         \n",
              "221880      0      0      0      0      1      3      1      1  0.266676   \n",
              "448819      0      1      0      1      1      1      3      1  0.627521   \n",
              "354206      0      0      0      0      1      3      3      1  0.364073   \n",
              "152859      0      0      0      0      1      1      3      1  0.511182   \n",
              "26039       0      0      0      1      1      3      3      1  0.467895   \n",
              "...       ...    ...    ...    ...    ...    ...    ...    ...       ...   \n",
              "493091      0      1      0      0      1      3      3      1  0.520074   \n",
              "77887       0      0      0      1      1      3      3      1  0.210586   \n",
              "373824      0      0      0      1      1      3      3      1  0.904835   \n",
              "133502      0      0      0      1      3      1      3      1  0.544800   \n",
              "68147       0      0      0      0      1      3      3      1  0.862533   \n",
              "\n",
              "           cont1     cont2     cont3     cont4     cont5     cont6     cont7  \\\n",
              "id                                                                             \n",
              "221880  0.687416  0.584018  0.564528  0.708227  0.735795  0.858244  0.646169   \n",
              "448819  0.528949  0.577031  0.344920  0.274340  0.620898  0.507305  0.435177   \n",
              "354206  0.342612  0.491586  0.238353  0.716626  0.772538  0.611310  0.548549   \n",
              "152859  0.687782  0.655494  0.629898  0.665085  0.734441  0.629380  0.629457   \n",
              "26039   0.315789  0.334740  0.313002  0.239047  0.309150  0.497593  0.317822   \n",
              "...          ...       ...       ...       ...       ...       ...       ...   \n",
              "493091  0.417806  0.420779  0.266609  0.803854  0.557235  0.718644  0.397521   \n",
              "77887   0.179631  0.263714  0.290007  0.630383  0.787862  0.650070  0.235830   \n",
              "373824  0.704923  0.405817  0.797436  0.297806  0.146277  0.178040  0.978456   \n",
              "133502  0.809434  0.771221  0.275488  0.734978  0.782125  0.847442  0.585801   \n",
              "68147   0.724834  0.832514  0.871306  0.777787  0.680276  0.233995  0.876012   \n",
              "\n",
              "           cont8     cont9    cont10  \n",
              "id                                    \n",
              "221880  0.631305  0.729420  0.450773  \n",
              "448819  0.403286  0.275645  0.467938  \n",
              "354206  0.374132  0.417710  0.527608  \n",
              "152859  0.374453  0.314769  0.539777  \n",
              "26039   0.338762  0.255708  0.332892  \n",
              "...          ...       ...       ...  \n",
              "493091  0.452421  0.557351  0.430447  \n",
              "77887   0.262001  0.391743  0.244552  \n",
              "373824  0.559196  0.869703  0.982159  \n",
              "133502  0.949368  0.632718  0.515782  \n",
              "68147   0.620917  0.823559  0.950732  \n",
              "\n",
              "[120000 rows x 30 columns]>"
            ]
          },
          "metadata": {}
        },
        {
          "output_type": "display_data",
          "data": {
            "text/plain": [
              "<bound method NDFrame.head of id\n",
              "221880    0\n",
              "448819    1\n",
              "354206    0\n",
              "152859    0\n",
              "26039     0\n",
              "         ..\n",
              "493091    0\n",
              "77887     0\n",
              "373824    0\n",
              "133502    1\n",
              "68147     0\n",
              "Name: target, Length: 120000, dtype: int64>"
            ]
          },
          "metadata": {}
        },
        {
          "output_type": "execute_result",
          "data": {
            "text/plain": [
              "RandomForestClassifier(max_depth=7, n_estimators=200, n_jobs=-1)"
            ]
          },
          "metadata": {},
          "execution_count": 114
        }
      ]
    },
    {
      "cell_type": "markdown",
      "source": [
        "el 60% de los datos van para 'X_train' y 'y_train', el 40% restante para las otras 2"
      ],
      "metadata": {
        "id": "MQ2ZfGTv9Oyn"
      }
    },
    {
      "cell_type": "code",
      "source": [
        "display(y_test.head)\n",
        "\n",
        "clf.fit(X_train, y_train)\n",
        "\n",
        "clf"
      ],
      "metadata": {
        "colab": {
          "base_uri": "https://localhost:8080/",
          "height": 260
        },
        "id": "nxBKE-nW6bwp",
        "outputId": "c1b7358c-87c0-4b3d-f5be-d5e73a94ac27"
      },
      "execution_count": null,
      "outputs": [
        {
          "output_type": "display_data",
          "data": {
            "text/plain": [
              "<bound method NDFrame.head of id\n",
              "221880    0\n",
              "448819    1\n",
              "354206    0\n",
              "152859    0\n",
              "26039     0\n",
              "         ..\n",
              "493091    0\n",
              "77887     0\n",
              "373824    0\n",
              "133502    1\n",
              "68147     0\n",
              "Name: target, Length: 120000, dtype: int64>"
            ]
          },
          "metadata": {}
        },
        {
          "output_type": "execute_result",
          "data": {
            "text/plain": [
              "RandomForestClassifier(max_depth=7, n_estimators=200, n_jobs=-1)"
            ]
          },
          "metadata": {},
          "execution_count": 115
        }
      ]
    },
    {
      "cell_type": "markdown",
      "source": [
        "La variable 'clf' será el bosque aleatorio de arboles de desición a incorporar, con un total de 200 arboles.\n",
        "Por defecto vienen 100\n",
        "Como hay tantas variables, se acota la profundidad de las ramas a 7, para que no se expandan hasta el infinito\n",
        "n_jobs=-1 significa que se debe utilizar todos los procesadores en paralelo\n",
        "\n",
        "\n",
        "Con .fit se incorporan las sub-variables de entrenamiento al bosque aleatorio\n",
        "\n",
        "Con esto la variable 'clf' es el algoritmo entrenado"
      ],
      "metadata": {
        "id": "BPnR0uzP9VE3"
      }
    },
    {
      "cell_type": "code",
      "source": [
        "y_pred = clf.predict_proba(X_test)\n",
        "y_pred = clf.predict_proba(X_test)[:, 1]\n",
        "score = roc_auc_score(y_test, y_pred)"
      ],
      "metadata": {
        "id": "rS93P5JFyczO"
      },
      "execution_count": null,
      "outputs": []
    },
    {
      "cell_type": "markdown",
      "source": [
        "La función 'predict_proba' toma la media de probabilidad de predicción de cada arbol"
      ],
      "metadata": {
        "id": "KBXxZRje9lvR"
      }
    },
    {
      "cell_type": "code",
      "source": [
        "score = roc_auc_score(y_test, y_pred)\n",
        "\n",
        "print(f'{score:0.5f}')"
      ],
      "metadata": {
        "colab": {
          "base_uri": "https://localhost:8080/"
        },
        "id": "TMFeO8So50rB",
        "outputId": "6f695057-6924-475f-c880-c61b81266877"
      },
      "execution_count": null,
      "outputs": [
        {
          "output_type": "stream",
          "name": "stdout",
          "text": [
            "0.87423\n"
          ]
        }
      ]
    }
  ]
}