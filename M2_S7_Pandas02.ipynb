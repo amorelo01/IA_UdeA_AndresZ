{
  "nbformat": 4,
  "nbformat_minor": 0,
  "metadata": {
    "colab": {
      "private_outputs": true,
      "provenance": [],
      "include_colab_link": true
    },
    "kernelspec": {
      "name": "python3",
      "display_name": "Python 3"
    },
    "language_info": {
      "name": "python"
    }
  },
  "cells": [
    {
      "cell_type": "markdown",
      "metadata": {
        "id": "view-in-github",
        "colab_type": "text"
      },
      "source": [
        "<a href=\"https://colab.research.google.com/github/amorelo01/IA_UdeA_AndresZ/blob/main/M2_S7_Pandas02.ipynb\" target=\"_parent\"><img src=\"https://colab.research.google.com/assets/colab-badge.svg\" alt=\"Open In Colab\"/></a>"
      ]
    },
    {
      "cell_type": "markdown",
      "source": [
        "<p><img alt=\"banner\" height=\"252px\" width=\"1080px\" src=\"https://docs.google.com/uc?export=download&id=1SqbMIjMfsMlSukiTyfMJ0VMuDlP2hGhx\"  align=\"center\" hspace=\"10px\" vspace=\"0px\" ></p>"
      ],
      "metadata": {
        "id": "kv2rwg3IaWlY"
      }
    },
    {
      "cell_type": "markdown",
      "source": [
        "Este notebook continua con el repaso de algunas de las funcionalidades que más usaremos en pandas para el análisis de datos. Para ello, continuaremos usando llos datos asociados a los precios de productos agrícolas en las distintas plazas de mercado del país. En particular, usaremos una base de datos previamente construida para el mes de febrero de 2020 y Agosto de 2021\n",
        "\n"
      ],
      "metadata": {
        "id": "jyrstHa6aXJ2"
      }
    },
    {
      "cell_type": "code",
      "source": [
        "import pandas as pd\n",
        "df_precio = pd.read_csv('https://raw.githubusercontent.com/endorgobio/SA_visualiser/master/data/output.csv', index_col=0)\n",
        "df_precio['fechaCaptura']= pd.to_datetime(df_precio['fechaCaptura'])\n",
        "df_precio['mes'] = df_precio['fechaCaptura'].dt.month\n",
        "df_precio"
      ],
      "metadata": {
        "id": "pa375Q7EybN-"
      },
      "execution_count": null,
      "outputs": []
    },
    {
      "cell_type": "markdown",
      "source": [
        "# <font color='056938'> **Ordenar los datos dentro de un dataframe** </font>\n",
        "\n",
        "Los datos de un dataframe pueden ordenenarse respecto a una o varias columnas usando la función `sort_values(by=['column1', 'column2'])`.\n",
        "\n",
        "Por ejemplo, podemos estar interesados en ordenar los datos del dtaframe df_precios, respecto a cada producto y las fechas. Note que usamos el parametro `inplace=True` para que el cambio sea persistente"
      ],
      "metadata": {
        "id": "JR7d27LEeZX2"
      }
    },
    {
      "cell_type": "code",
      "source": [
        "df_precio.sort_values(by=['producto', 'ciudad', 'fechaCaptura'], inplace=True)\n",
        "df_precio"
      ],
      "metadata": {
        "id": "l_-pmeUTffTy"
      },
      "execution_count": null,
      "outputs": []
    },
    {
      "cell_type": "markdown",
      "metadata": {
        "id": "_NPF23olvHx5"
      },
      "source": [
        "# <font color='056938'> **Agrupar datos** </font><font color='8EC044'> **- groupby()** </font>\n",
        "\n",
        "\n",
        "\n",
        "\n",
        "\n",
        "\n"
      ]
    },
    {
      "cell_type": "markdown",
      "source": [
        "\n",
        "`groupby` se refiere a un proceso que implica uno o más de los siguientes pasos:\n",
        "\n",
        "1. **Dividir** los datos en grupos según ciertos criterios.\n",
        "2. **Aplicar** una función a cada grupo de manera independiente.\n",
        "3. **Combinar** los resultados en una estructura de datos.\n",
        "\n",
        "En el paso de aplicación usualmente se realiza alguna de las siguientes acciones:\n",
        "\n",
        "* Agregación: calcular una medida de resumen (centralidad, variabilidad, posición o forma) para cada grupo. Algunos ejemplos incluyen:\n",
        "   - Calcular sumas o promedios del grupo.\n",
        "   - Calcular tamaños o conteos de grupo.\n",
        "   \n",
        "* Transformación: realizar algunos cálculos específicos del grupo y devolver un objeto indexado similar. Algunos ejemplos incluyen:\n",
        "   - Estandarizar datos (puntuación z) dentro de un grupo.\n",
        "   - Rellenar NA dentro de grupos con un valor derivado de cada grupo.\n",
        "   \n",
        "* Filtrado: descartar algunos grupos, de acuerdo con un cálculo a nivel de grupo que evalúa a Verdadero o Falso. Algunos ejemplos incluyen:\n",
        "   - Descartar datos que pertenezcan a grupos con pocos miembros.\n",
        "   - Filtrar datos basados en la suma o el promedio del grupo.\n",
        "\n",
        "\n"
      ],
      "metadata": {
        "id": "PgZA7yZkh24d"
      }
    },
    {
      "cell_type": "markdown",
      "source": [
        "## <font color='056938'> **Dividir** </font>\n",
        "\n",
        "En `pandas`, un objeto `groupby` es un objeto que representa una agrupación de datos basada en uno o más criterios.\n",
        "\n",
        "Este objeto `groupby` no contiene directamente los datos agrupados, sino que proporciona una forma de acceder a estos grupos y realizar operaciones en ellos."
      ],
      "metadata": {
        "id": "ZD3HI0BRSeCg"
      }
    },
    {
      "cell_type": "markdown",
      "source": [
        "En su forma más simple, debemos especificar la variable respecto a la cual deseamos realizar la agrupación, la variable que se agrupará y la medida de resumen que deseamos calcular.\n",
        "\n",
        "En un `DataFrame`, obtenemos un objeto `GroupBy` llamando a `groupby()`. Este método devuelve una instancia de `pandas.api.typing.DataFrameGroupB`y.\n",
        "\n",
        "En el ejemplo del conjunto de datos `df_precios` podríamos agrupar, por ejemplo  por las columnas `ciudad`, `productos` o ambas"
      ],
      "metadata": {
        "id": "uoylWZMCbJq8"
      }
    },
    {
      "cell_type": "code",
      "execution_count": null,
      "metadata": {
        "id": "fA7L50ZbxWbX"
      },
      "outputs": [],
      "source": [
        "group_precio = df_precio.groupby('ciudad')"
      ]
    },
    {
      "cell_type": "markdown",
      "source": [
        "La función `len()` de python nos permitirá saber el número de agrupaciones obtenidas"
      ],
      "metadata": {
        "id": "DzW4H3pDYTcW"
      }
    },
    {
      "cell_type": "code",
      "source": [
        "len(group_precio)"
      ],
      "metadata": {
        "id": "9AlgcRyLYepf"
      },
      "execution_count": null,
      "outputs": []
    },
    {
      "cell_type": "markdown",
      "source": [
        "El atributo `groups` retorna un diccionario con los grupos obtenidos. Note por ejemplo como prodríamos obtener las claves asociadas a dicho diccionario  "
      ],
      "metadata": {
        "id": "L8m_fWE-YkcE"
      }
    },
    {
      "cell_type": "code",
      "source": [
        "print('groupby retorna un objeto de tipo: ', type(group_precio.groups))\n",
        "group_precio.groups.keys()"
      ],
      "metadata": {
        "id": "uJUaE6qGY0Bg"
      },
      "execution_count": null,
      "outputs": []
    },
    {
      "cell_type": "markdown",
      "source": [
        "Incluso, es posible iteratar sobre los grupos creados. Note por ejemplo como iteramos sobre los grupos imprimiendo su nombre y el número de elementos que contienen"
      ],
      "metadata": {
        "id": "UrJgdBui0uMy"
      }
    },
    {
      "cell_type": "code",
      "source": [
        "for name, group in df_precio.groupby('ciudad'):\n",
        "  print(f'El grupo {name} tiene {len(group)} elementos')"
      ],
      "metadata": {
        "id": "de4hr6tS05uS"
      },
      "execution_count": null,
      "outputs": []
    },
    {
      "cell_type": "markdown",
      "metadata": {
        "id": "AE7ZDd2fxojw"
      },
      "source": [
        "Adicionalmente es posible agrupar sobre múltiples columnas, pasando para ello como lista las columnas sobre las que se desea agrupar\n",
        "\n",
        "```Python\n",
        "df.groupby(['columna1', 'columna2'])\n",
        "```\n",
        "\n",
        "\n"
      ]
    },
    {
      "cell_type": "markdown",
      "source": [
        "#### <font color='46B8A9'> **Ejercicio** </font>  \n",
        "Imprima los nombres y número de elementos de los grupos resultantes de agrupar `df_precios` respecto a `ciudad` y `producto`"
      ],
      "metadata": {
        "id": "9aJBbDs53lId"
      }
    },
    {
      "cell_type": "code",
      "source": [
        "# Inserte aquí su respuesta\n"
      ],
      "metadata": {
        "id": "xiDZ-peB3cYk",
        "collapsed": true
      },
      "execution_count": null,
      "outputs": []
    },
    {
      "cell_type": "markdown",
      "source": [
        "### <font color='8EC044'> **Selección de un grupo** </font>\n",
        "\n",
        "Un  grupo específico puede ser seleccionado utilizando `get_group()`, Por ejemplo, obtengamos los elementos del grupo asociado a `ARMENIA`. Note que en este caso obtenemos un `DataFrame`."
      ],
      "metadata": {
        "id": "8k3YRKf-4y_u"
      }
    },
    {
      "cell_type": "code",
      "source": [
        "df_grouped = df_precio.groupby('ciudad')\n",
        "df_grouped.get_group(\"ARMENIA\")"
      ],
      "metadata": {
        "id": "kU6dBg5O5h19"
      },
      "execution_count": null,
      "outputs": []
    },
    {
      "cell_type": "markdown",
      "source": [
        "#### <font color='46B8A9'> **Ejercicio** </font>  \n",
        "\n",
        "En el `DataFrame` agrupado por ciudades y productos, obtenga el grupo correspondiente a la ciudad de `ARMENIA` y el producto `Zanahoria`"
      ],
      "metadata": {
        "id": "4yPHDeiF6Xi7"
      }
    },
    {
      "cell_type": "code",
      "source": [
        "# Inserte aquí su respuesta\n",
        "df_grouped = df_precio.groupby(['ciudad', 'producto'])\n",
        "df_grouped.get_group(('ARMENIA','Zanahoria'))"
      ],
      "metadata": {
        "id": "61cjUhVH6_xW",
        "collapsed": true
      },
      "execution_count": null,
      "outputs": []
    },
    {
      "cell_type": "markdown",
      "source": [
        "## <font color='056938'> **Aplicar** </font>"
      ],
      "metadata": {
        "id": "Tlh99371VkkZ"
      }
    },
    {
      "cell_type": "markdown",
      "source": [
        "\n",
        "### <font color='8EC044'> **Agregación** </font>\n",
        "Una agregación es una operación `GroupBy` que reduce la dimensión del objeto de agrupación. El resultado de una agregación es, o al menos se trata como, un valor escalar para cada columna en un grupo.\n",
        "\n",
        "\n",
        "Por ejemplo, deseamos obtener el máximo de cada una de las columnas en un grupo de interés."
      ],
      "metadata": {
        "id": "iCKGt3qR70Mj"
      }
    },
    {
      "cell_type": "code",
      "source": [
        "df_grouped = df_precio.groupby(['ciudad', 'producto'])[['precioPromedio', 'fechaCaptura']].max()\n",
        "df_grouped"
      ],
      "metadata": {
        "id": "kRUJYQFL8PnL"
      },
      "execution_count": null,
      "outputs": []
    },
    {
      "cell_type": "markdown",
      "source": [
        "El argumento `as_index`  determina si los valores utilizados para agrupar los datos deben tratarse como índices en el resultado final o como columnas"
      ],
      "metadata": {
        "id": "ves7aQih3c0K"
      }
    },
    {
      "cell_type": "code",
      "execution_count": null,
      "metadata": {
        "id": "KO4IgZ1wxtIG"
      },
      "outputs": [],
      "source": [
        "df_grouped = df_precio.groupby(['producto', 'ciudad'], as_index=False)[['precioPromedio', 'fechaCaptura']].max()\n",
        "df_grouped"
      ]
    },
    {
      "cell_type": "markdown",
      "source": [
        "Algunos de los métodos de agregación disponibles en `groupby` son:\n",
        "\n",
        "| Método de Agregación | Descripción                                       |\n",
        "|-----------------------|---------------------------------------------------|\n",
        "| `count()`             | Cuenta el número de elementos en cada grupo.      |\n",
        "| `sum()`               | Calcula la suma de los valores en cada grupo.     |\n",
        "| `mean()`              | Calcula la media de los valores en cada grupo.    |\n",
        "| `median()`            | Calcula la mediana de los valores en cada grupo.  |\n",
        "| `min()`               | Encuentra el valor mínimo en cada grupo.          |\n",
        "| `max()`               | Encuentra el valor máximo en cada grupo.          |\n",
        "| `std()`               | Calcula la desviación estándar de cada grupo.      |\n",
        "| `var()`               | Calcula la varianza de cada grupo.                |\n",
        "| `first()`             | Devuelve el primer valor de cada grupo.           |\n",
        "| `last()`              | Devuelve el último valor de cada grupo.           |\n",
        "| `prod()`              | Calcula el producto de los valores en cada grupo. |\n",
        "\n"
      ],
      "metadata": {
        "id": "e2aFG1fn_Y42"
      }
    },
    {
      "cell_type": "markdown",
      "source": [
        "#### <font color='46B8A9'> **Ejercicio** </font>  \n",
        "\n",
        "Use `GroupBy` para calcular la media del precio promedio de cada producto en cada ciudad"
      ],
      "metadata": {
        "id": "ku5B1txUATt4"
      }
    },
    {
      "cell_type": "code",
      "source": [
        "# Inserte aquí su respuesta\n",
        "df_grouped = df_precio.groupby(['producto', 'ciudad'], as_index=False)['precioPromedio'].mean()\n",
        "df_grouped"
      ],
      "metadata": {
        "id": "5_h9Phy_An-F"
      },
      "execution_count": null,
      "outputs": []
    },
    {
      "cell_type": "markdown",
      "source": [
        "**El método `aggregate()`**\n",
        "\n",
        "Permite realizar la agregación directamente pasando  cualquiera de los métodos implementados por defecto en pandas. Adicionalmente, el método suele llamarse con la abreviación `agg()`  \n",
        "\n",
        "Note por ejemplo como obtenemos el mismo resultado para el máximo de cada una de las columnas en un grupo de interés que ya realizamos anteriormente"
      ],
      "metadata": {
        "id": "Kw6lWHjeC6as"
      }
    },
    {
      "cell_type": "code",
      "source": [
        "df_grouped = df_precio.groupby(['producto', 'ciudad'], as_index=False)['precioPromedio'].agg(\"max\")\n",
        "df_grouped"
      ],
      "metadata": {
        "id": "WBnPJ1pKDrIW"
      },
      "execution_count": null,
      "outputs": []
    },
    {
      "cell_type": "markdown",
      "source": [
        "Pueden pasarse más de una función para ser aplicadas simultaneamente:"
      ],
      "metadata": {
        "id": "g-Ejb1ufFzSy"
      }
    },
    {
      "cell_type": "code",
      "source": [
        "df_grouped = df_precio.groupby(['producto', 'ciudad'], as_index=False)['precioPromedio'].agg([\"sum\", \"mean\", \"max\"])\n",
        "df_grouped\n"
      ],
      "metadata": {
        "id": "O0IRqsHSF5h3"
      },
      "execution_count": null,
      "outputs": []
    },
    {
      "cell_type": "markdown",
      "source": [
        "También es posible usar funciones definidas por el usuario para realizar la agrupación."
      ],
      "metadata": {
        "id": "RBB8GBF3E0c3"
      }
    },
    {
      "cell_type": "code",
      "source": [
        "# Definimos una función\n",
        "def custom_function(x):\n",
        "    return x.max() - x.min()\n",
        "\n",
        "df_grouped = df_precio.groupby(['producto', 'ciudad'], as_index=False)['precioPromedio'].agg(custom_function)\n",
        "df_grouped\n"
      ],
      "metadata": {
        "id": "gpWHtvxmFAE3"
      },
      "execution_count": null,
      "outputs": []
    },
    {
      "cell_type": "markdown",
      "metadata": {
        "id": "tASh01wox71A"
      },
      "source": [
        "Por último, es posible agregar los datos generando varias medidas numéricas al mismo tiempo usando la función `agg()` y dar nombres específicos a cada columna obtenida"
      ]
    },
    {
      "cell_type": "code",
      "execution_count": null,
      "metadata": {
        "id": "nU4aAY_YyJxa"
      },
      "outputs": [],
      "source": [
        "df_grouped = df_precio.groupby(['producto', 'ciudad'], as_index=False).agg(\n",
        "    promedio = ('precioPromedio', 'mean'),\n",
        "    maximo = ('precioPromedio', 'max'),\n",
        "    fecha_min = ('fechaCaptura', min),\n",
        "    rango = ('precioPromedio', custom_function)\n",
        "    )\n",
        "\n",
        "df_grouped"
      ]
    },
    {
      "cell_type": "markdown",
      "source": [
        "#### <font color='46B8A9'> **Ejercicio** </font>  \n",
        "\n",
        "Genere una agrupación de los datos que presente para cada producto en cada ciudad, la media del precio promedio, la fecha mínima y máxima en que se tomaron registros y el número de registros no nulos existentes"
      ],
      "metadata": {
        "id": "FkENITq6dI6S"
      }
    },
    {
      "cell_type": "code",
      "source": [
        "# Inserte aquí su respuesta\n",
        "df_grouped = df_precio.groupby(['producto', 'ciudad'], as_index=False).agg(\n",
        "    promedio = ('precioPromedio', 'mean'),\n",
        "    fecha_min = ('fechaCaptura', 'min'),\n",
        "    fecha_max = ('fechaCaptura', 'max'),\n",
        "    validos = ('precioPromedio', 'count'),\n",
        "    )\n",
        "\n",
        "df_grouped"
      ],
      "metadata": {
        "id": "GcISMYoieO_n"
      },
      "execution_count": null,
      "outputs": []
    },
    {
      "cell_type": "markdown",
      "source": [
        "### <font color='8EC044'> **Transformación** </font>\n",
        "\n",
        "Las transformaciones se refieren a operaciones que devuelven un nuevo `DataFrame` con la misma forma que el original, pero con valores ajustados en función de operaciones de agrupación. Las transformaciones se aplican a cada grupo de forma independiente y luego los resultados se combinan nuevamente.\n",
        "\n",
        "Las transformaciones son diferentes de las agregaciones en que mantienen la forma original del DataFrame, mientras que las agregaciones típicamente reducen la dimensionalidad de los datos al producir un único valor resumen para cada grupo.\n",
        "\n",
        "Note por ejemplo, que si queremos adicionar al dataframe una variable que indique para cada registro el máximo de todos los precios promedio durante el periodo de observación `precioMaximo_obs` podriamos hacerlo de la siguiente forma:\n"
      ],
      "metadata": {
        "id": "_HBfV8HXIF85"
      }
    },
    {
      "cell_type": "code",
      "source": [
        "df_grouped = df_precio.groupby(['producto', 'ciudad'], as_index=False)['precioPromedio']\n",
        "df_precio['precioMaximo_obs'] = df_grouped.cummax()\n",
        "df_precio.sample(5)\n"
      ],
      "metadata": {
        "id": "IgTgJfHWKBhK"
      },
      "execution_count": null,
      "outputs": []
    },
    {
      "cell_type": "markdown",
      "source": [
        "Algunas de las funciones predefinidas son:\n",
        "\n",
        "| Función       | Descripción                                                                                          |\n",
        "|---------------|------------------------------------------------------------------------------------------------------|\n",
        "| `fillna`      | Rellena valores faltantes dentro de cada grupo con un valor específico.                             |\n",
        "| `ffill`, `bfill` | Rellena valores faltantes dentro de cada grupo utilizando el valor anterior o siguiente.          |\n",
        "| `rank`        | Asigna rangos dentro de cada grupo basados en los valores de una o más columnas.                    |\n",
        "| `cumcount`    | Calcula el conteo acumulativo dentro de cada grupo.                                                  |\n",
        "| `cummax`      | Calcula el máximo acumulativo dentro de cada grupo.                                                  |\n",
        "| `cummin`      | Calcula el mínimo acumulativo dentro de cada grupo.                                                  |\n",
        "| `cumprod`     | Calcula el producto acumulativo dentro de cada grupo.                                                |\n",
        "| `cumsum`      | Calcula la suma acumulativa dentro de cada grupo.                                                    |\n",
        "| `diff`        | Calcula la diferencia entre valores adyacentes dentro de cada grupo.                                 |\n",
        "| `pct_change`  | Calcula el cambio porcentual entre valores adyacentes dentro de cada grupo.                          |\n",
        "| `shift`       | Desplaza valores hacia arriba o hacia abajo dentro de cada grupo.                                    |\n",
        "\n"
      ],
      "metadata": {
        "id": "3ErB0x7HPPpk"
      }
    },
    {
      "cell_type": "markdown",
      "source": [
        "#### <font color='46B8A9'> **Ejercicio** </font>  \n",
        "Agregue una columna al DataFrame `df_precios`, que enumere ascendentemente las observaciones de un mismos producto en cada ciudad. Así por ejemplo para los registros de `Ahuyama` en `BARRANQUILLA`, debe numerarlos desde 0 hasta el número de registros existentes en ese grupo"
      ],
      "metadata": {
        "id": "k_6yBEF1NO3v"
      }
    },
    {
      "cell_type": "code",
      "source": [
        "# Escriba aqui su respuesta\n",
        "df_grouped = df_precio.groupby([\"ciudad\", \"producto\"])[\"precioPromedio\"]\n",
        "df_precio['contador'] = df_grouped.cumcount()\n",
        "\n",
        "df_precio"
      ],
      "metadata": {
        "id": "ucwK2vluPteD"
      },
      "execution_count": null,
      "outputs": []
    },
    {
      "cell_type": "markdown",
      "source": [
        "Similar al método de agregación, el método `transform()` puede aceptar strings para los métodos de transformación predefinidos o incluso para funciones credas por el usuario.\n",
        "\n",
        "Considere el ejemplo en el que calculamos el valor de la distribución normal unitaria asociado a cada precio promedio del producto en cada ciudad."
      ],
      "metadata": {
        "id": "HV09pZMhTKof"
      }
    },
    {
      "cell_type": "code",
      "source": [
        "# Definimos la función\n",
        "def calcular_puntaje_z(group):\n",
        "    mean = group.mean()\n",
        "    std = group.std()\n",
        "    return (group - mean) / std\n",
        "\n",
        "# Calculamos la nueva columna usando transform\n",
        "df_precio['valor_normal'] = df_grouped.transform(calcular_puntaje_z)\n",
        "df_precio"
      ],
      "metadata": {
        "id": "03OX7JafUCSt"
      },
      "execution_count": null,
      "outputs": []
    },
    {
      "cell_type": "markdown",
      "metadata": {
        "id": "LfwXO_a78JyX"
      },
      "source": [
        "Estas y otras formas de realizar la agrupación se resumen en la siguiente tabla\n",
        "\n",
        "| Sintaxis | Descripción |\n",
        "| --- | --- |\n",
        "| df.groupby('columna') | Agrupa el DataFrame `df` por la columna especificada |\n",
        "| df.groupby(['columna1', 'columna2']) | Agrupa el DataFrame `df` por las columnas especificadas |\n",
        "| df.groupby('columna').mean() | Agrupa el DataFrame `df` por la columna especificada y calcula la media de cada grupo |\n",
        "| df.groupby('columna').agg(func) | Agrupa el DataFrame `df` por la columna especificada y aplica una función de agregación personalizada `func` a cada grupo |\n",
        "| df.groupby('columna').apply(func) | Agrupa el DataFrame `df` por la columna especificada y aplica una función personalizada `func` a cada grupo |\n",
        "| df.groupby('columna').filter(func) | Agrupa el DataFrame `df` por la columna especificada y filtra los grupos que cumplen con una condición dada por la función `func` |\n"
      ]
    },
    {
      "cell_type": "markdown",
      "source": [
        "# <font color='056938'> **Resumir y organizar datos - pivot_table()** </font>\n",
        "\n",
        "Una `pivot_table` es una herramienta  útil para resumir y analizar datos tabulares. Esta toma datos en forma de DataFrame y realiza una operación de agregación en ellos, agrupando los datos según los valores de una o más columnas. Luego, presenta los resultados en una tabla fácilmente interpretable.\n",
        "\n",
        "Los  `pivot_table`, consideran los siguientes elementos:\n",
        "\n",
        "1. **Índice**: Las columnas que se usarán para agrupar los datos. Estas se mostrarán en el índice de la tabla resultante.\n",
        "  \n",
        "2. **Columnas**: Las columnas que se utilizarán para segmentar aún más los datos. Estas se mostrarán como columnas en la tabla resultante.\n",
        "  \n",
        "3. **Valores**: Las columnas que se utilizarán para calcular las agregaciones. Se aplicará una función de agregación a estos valores.\n",
        "\n",
        "4. **Función de agregación**: La función que se utilizará para resumir los datos. Esto puede ser una función incorporada como `sum`, `mean`, `count`, `min`, `max`, etc., o una función personalizada.\n",
        "\n"
      ],
      "metadata": {
        "id": "DUzaaB71hEdZ"
      }
    },
    {
      "cell_type": "code",
      "source": [
        "pivot_table = df_precio.pivot_table(index=['producto', 'mes'], columns='ciudad', values='precioPromedio', aggfunc=['mean', 'max'])\n",
        "pivot_table"
      ],
      "metadata": {
        "id": "xBhOatU0hFBJ"
      },
      "execution_count": null,
      "outputs": []
    },
    {
      "cell_type": "markdown",
      "source": [
        "El formato obtenido para la estructura de datos al usar la función pivot_table() es denomindao usualmente formato amplio (`wide format`), mientras que la estructura que originalmente tenian nuestros datos corresponde a un formato largo (`long format`)\n",
        "\n"
      ],
      "metadata": {
        "id": "eQY_kou0jfEd"
      }
    },
    {
      "cell_type": "markdown",
      "source": [
        "# <font color='056938'> **Iterar sobre `DataFrames`** </font>\n",
        "\n",
        "Es común que queramos iterar sobre los registros de un Dataframe, o incluso sobre sus columnas. Esto puede lograrse usando directamente el indice de cada registro o las opciones de `loc` e `iloc`"
      ],
      "metadata": {
        "id": "4QxVHKvOjD3U"
      }
    },
    {
      "cell_type": "code",
      "source": [
        "df = df_precio.sample(5) # obtengamos una muestra para no imprimir todos los registros\n",
        "\n",
        "for ind in df.index:\n",
        "    print(df['producto'][ind], df['ciudad'][ind], df['precioPromedio'][ind] )"
      ],
      "metadata": {
        "id": "38yzww_Jj4AR"
      },
      "execution_count": null,
      "outputs": []
    },
    {
      "cell_type": "markdown",
      "source": [
        "Sin embargo, una forma más eficiente de hacerlo es a través del método `iterrows()`. El cual permite iterar sobre un `DataFrame`, devolviendo pares de índice y fila para cada fila en el `DataFrame`. Cada par consiste en un índice de fila y una Serie que representa los datos de esa fila."
      ],
      "metadata": {
        "id": "LoLdn8MSkVES"
      }
    },
    {
      "cell_type": "code",
      "source": [
        "df = df_precio.sample(5) # obtengamos una muestra para no imprimir todos los registros\n",
        "\n",
        "for index, row in df.iterrows():\n",
        "     print(row['producto'], row['ciudad'], row['precioPromedio'])\n"
      ],
      "metadata": {
        "id": "S-pSvChSktK5"
      },
      "execution_count": null,
      "outputs": []
    },
    {
      "cell_type": "markdown",
      "source": [
        "### <font color='46B8A9'> **Ejercicio** </font>\n",
        "\n",
        "Considere los datos de precios diarios del SIPSA obtenidos como archivo `csv`, de la cual hemos eliminado la primera y las tres últimas filas"
      ],
      "metadata": {
        "id": "xik9webQk5tN"
      }
    },
    {
      "cell_type": "code",
      "source": [
        "import pandas as pd\n",
        "\n",
        "df = pd.read_excel('https://www.dane.gov.co/files/operaciones/SIPSA/anex-SIPSADiario-01ago2023.xlsx')\n",
        "n =  len(df)\n",
        "df = df.drop([0, n-1,n-2,n-3])\n",
        "df.head(6)"
      ],
      "metadata": {
        "id": "imEliV8ORfEk"
      },
      "execution_count": null,
      "outputs": []
    },
    {
      "cell_type": "markdown",
      "source": [
        "Considere la función que extrae los nombres de las ciudades asociadas al dataframe obtenido"
      ],
      "metadata": {
        "id": "N9ERvxnFSbAX"
      }
    },
    {
      "cell_type": "code",
      "source": [
        "def nombres_ciudades(df):\n",
        "\n",
        "  nombres = df.loc[1] # Extraemos la fila con los nombres de las ciudades\n",
        "  # Obtenemos solo los nombres de las ciudades\n",
        "  ciudades = [texto.split()[0].replace(\",\", \"\") for texto in nombres if str(texto) != 'nan' ]\n",
        "  col0 = ciudades.pop(0) # Removemos el primer elemento que no es una ciudad\n",
        "\n",
        "  return ciudades\n",
        "\n",
        "ciudades= nombres_ciudades(df)\n",
        "ciudades"
      ],
      "metadata": {
        "id": "IsoKysxERqcf"
      },
      "execution_count": null,
      "outputs": []
    },
    {
      "cell_type": "markdown",
      "source": [
        "Cree un nuevo `DataFrame`  llamado `df_long` que contenga la información suministrada en el formato extenso (long). El `DataFrame` resultante denerá verse de la siguiente forma:\n",
        "\n",
        "![](https://docs.google.com/uc?export=download&id=1PmgzBzt8i0wW84LQmtHH7y1oj4tdJhRN)\n",
        "\n"
      ],
      "metadata": {
        "id": "mMCdAkKLUTCg"
      }
    },
    {
      "cell_type": "code",
      "source": [
        "# Inserte aquí su respuesta\n"
      ],
      "metadata": {
        "id": "65gaUxMqlTT0"
      },
      "execution_count": null,
      "outputs": []
    },
    {
      "cell_type": "code",
      "source": [
        "import pandas as pd\n",
        "\n",
        "df_long = pd.DataFrame(data, columns=['producto', 'ciudad', 'precio', 'varianza'])\n",
        "df_long"
      ],
      "metadata": {
        "id": "l1Pph4kembq_"
      },
      "execution_count": null,
      "outputs": []
    },
    {
      "cell_type": "markdown",
      "source": [
        "# <font color='056938'> **Visualización de datos** </font>\n",
        "\n",
        "Aunque tendremos un módulo dedicado a la visualización de datos, es importante señalar que pandas cuenta con sus propias herramientas de visualización. Tienen la ventaja de ser sencillas de usar, pero tienen algunas limitaciones para gráficos más complejos o para aquellos que buscamos gráficos con mucho poder visual."
      ],
      "metadata": {
        "id": "mv_Qe78Xma5S"
      }
    },
    {
      "cell_type": "markdown",
      "metadata": {
        "id": "At2xOumx7y7_"
      },
      "source": [
        "Finalmente, es posible crear gráficos directamente desde `pandas` de forma sencilla. Creemos por ejemplo un gráfico de barras del valor promedio del indice de accesibilidad por año. En este caso gráficaremos el precio promedio de la Ahuyama en las distintas plazas de mercado del país durante el periodo de estudio."
      ]
    },
    {
      "cell_type": "code",
      "execution_count": null,
      "metadata": {
        "id": "OLlzq-5s4ZGI"
      },
      "outputs": [],
      "source": [
        "# Filtramos solo registros de Ahuyama\n",
        "df_ahuyama = df_precio[df_precio['producto']=='Ahuyama']\n",
        "# Agrupamos por ciudades con respecto al precio promedio\n",
        "grouped = df_ahuyama.groupby('ciudad', as_index=False)['precioPromedio'].mean()\n",
        "# Haga gráfico de barras\n",
        "grouped.plot.bar(x='ciudad', y='precioPromedio')"
      ]
    },
    {
      "cell_type": "markdown",
      "metadata": {
        "id": "4rq2Q8hl5wd1"
      },
      "source": [
        "Algunas otras opciones de gráficos son:\n",
        "\n",
        "\n",
        "| Tipo de gráfico | Función de Pandas | Descripción |\n",
        "| --- | --- | --- |\n",
        "| Gráfico de línea | `DataFrame.plot()` | Muestra los datos como una serie de puntos conectados por líneas rectas. Útil para ver la tendencia de los datos a lo largo del tiempo. |\n",
        "| Gráfico de barras | `DataFrame.plot.bar()` | Muestra los datos como barras verticales u horizontales, útil para comparar datos de diferentes categorías. |\n",
        "| Gráfico de barras apiladas | `DataFrame.plot.bar(stacked=True)` | Similar al gráfico de barras, pero las barras se apilan una encima de la otra. Útil para comparar la contribución de cada categoría a un total. |\n",
        "| Gráfico de dispersión | `DataFrame.plot.scatter()` | Muestra la relación entre dos conjuntos de datos como una serie de puntos. Útil para ver si hay una correlación entre los dos conjuntos de datos. |\n",
        "| Gráfico de área | `DataFrame.plot.area()` | Muestra los datos como un área sombreada debajo de una línea. Útil para ver la evolución de los datos a lo largo del tiempo. |\n",
        "| Gráfico de pastel | `DataFrame.plot.pie()` | Muestra los datos como un diagrama de pastel, donde cada sección representa un porcentaje del total. Útil para ver la distribución de los datos. |\n",
        "| Gráfico de caja | `DataFrame.plot.box()` | Muestra los datos como una caja y un conjunto de bigotes, útil para ver la distribución de los datos y detectar valores atípicos. |"
      ]
    },
    {
      "cell_type": "markdown",
      "source": [
        "#### <font color='46B8A9'> **Ejercicio** </font>\n",
        "\n",
        "Genere un gráfico que permita ver la evolución temporal del precio de la Ahuyama en la plaza de mercado de Medellín"
      ],
      "metadata": {
        "id": "ra0YgkyArt6q"
      }
    },
    {
      "cell_type": "code",
      "source": [
        "# Inserte aquí su respuesta\n"
      ],
      "metadata": {
        "id": "hTsFarvwr1ZR"
      },
      "execution_count": null,
      "outputs": []
    },
    {
      "cell_type": "markdown",
      "source": [
        "# <font color='056938'> **Funciones y librerias para la adquisición de datos** </font>"
      ],
      "metadata": {
        "id": "0Pf_JVrzdoJz"
      }
    },
    {
      "cell_type": "markdown",
      "source": [
        "De momento hemos hecho una revisión sobre funciones básicas para la adquisición de datos, en particular usando pandas. Sin embargo, existe un conjunto amplio de herramientas para ser exploradas.\n",
        "\n",
        "De manera colaborativa, vamos a identificar y describer algunas de esas **joyitas** que estan disponibles pero son poco exploradas\n",
        "\n",
        "## <font color='46B8A9'> **Ejercicio** </font>\n",
        "\n",
        "Identifique una función de `pandas`, una libreria alterna o una `API` a un servicio, que considere sea de utilidad para la adquisición de datos. Para ello, cada uno debera preparar un notebook donde describe\n",
        " la función o la libreria con un solo ejemplo de aplicación. El enlace a dicho notebook debe subirse en el espacio creado para ello en la plataforma:\n",
        "\n",
        " Considere los siguientes dos ejemplos:\n",
        "\n"
      ],
      "metadata": {
        "id": "OpUOVgWPdyi1"
      }
    },
    {
      "cell_type": "markdown",
      "source": [
        "### <font color='8EC044'> **Ejemplo 1** </font>"
      ],
      "metadata": {
        "id": "D-fxxnPpfcY2"
      }
    },
    {
      "cell_type": "markdown",
      "source": [
        "La función `explode()` en `pandas` se utiliza para transformar cada elemento de una columna con estructuras tipo lista (como listas o arreglos) en filas separadas. Es útil cuando tienes una columna con listas y quieres \"expandirlas\" de modo que cada elemento de la lista se convierta en su propia fila, manteniendo el resto de los datos del DataFrame sin cambios."
      ],
      "metadata": {
        "id": "2elVnrJIfgy4"
      }
    },
    {
      "cell_type": "markdown",
      "source": [
        "Considere el siguiente dataframe donde estan las fechas en las que se contacto cada uno de los clientes"
      ],
      "metadata": {
        "id": "m54D-Ls6gZJQ"
      }
    },
    {
      "cell_type": "code",
      "source": [
        "import pandas as pd\n",
        "\n",
        "# DataFrame de ejemplo con una columna de listas\n",
        "df = pd.DataFrame({\n",
        "    'cliente': ['cliente1', 'cliente2','cliente3'],\n",
        "    'fecha': ['2024-06-01', ['2024-06-01', '2024-06-03'], ['2024-06-01', '2024-06-05','2024-06-07']]\n",
        "})\n",
        "\n",
        "df"
      ],
      "metadata": {
        "id": "JLljBm0Jghxz"
      },
      "execution_count": null,
      "outputs": []
    },
    {
      "cell_type": "markdown",
      "source": [
        "Note que algunos clientes tienen una lista de fechas en las que consultaron.\n",
        "\n",
        "Deseariamos tener un registro asociado a cada consulta"
      ],
      "metadata": {
        "id": "nad64D9KhX3E"
      }
    },
    {
      "cell_type": "code",
      "source": [
        "# Usamos explode para expandir las listas en la columna 'B'\n",
        "exploded_df = df.explode('fecha')\n",
        "exploded_df.reset_index(inplace=True)\n",
        "exploded_df"
      ],
      "metadata": {
        "id": "8jucl2G8hjYT"
      },
      "execution_count": null,
      "outputs": []
    },
    {
      "cell_type": "markdown",
      "source": [
        "### <font color='8EC044'> **Ejemplo 2** </font>"
      ],
      "metadata": {
        "id": "veokG6Jvhqyz"
      }
    },
    {
      "cell_type": "markdown",
      "source": [
        "`ydata-profiling` es una biblioteca de Python utilizada para generar informes detallados de análisis exploratorio de datos (EDA). Anteriormente se conocía como `pandas-profiling`. La biblioteca automatiza la creación de perfiles para DataFrames de pandas, ofreciendo información como tipos de datos, valores faltantes, distribuciones, correlaciones y resúmenes estadísticos.\n",
        "\n",
        "Esta biblioteca simplifica la comprensión de los datos, ayudando a los usuarios a obtener insights rápidamente sin necesidad de una inspección manual."
      ],
      "metadata": {
        "id": "DY0Gh4O8TtoK"
      }
    },
    {
      "cell_type": "markdown",
      "source": [
        "Para su uso primero instalamos la libreria"
      ],
      "metadata": {
        "id": "JwVcfbI0Ty4v"
      }
    },
    {
      "cell_type": "code",
      "source": [
        "!pip install ydata-profiling"
      ],
      "metadata": {
        "id": "UA41FzbdSb7Y"
      },
      "execution_count": null,
      "outputs": []
    },
    {
      "cell_type": "markdown",
      "source": [
        "Una vez instalada, importamos las funciones que usaremos.\n",
        "\n",
        "Un primer reporte de la base de datos que leemos puede obtenerse así:"
      ],
      "metadata": {
        "id": "2YOzFb-AT3bG"
      }
    },
    {
      "cell_type": "code",
      "source": [
        "from ydata_profiling import ProfileReport, compare\n",
        "\n",
        "df_precio = pd.read_csv('https://raw.githubusercontent.com/endorgobio/SA_visualiser/master/data/output.csv', index_col=0)\n",
        "df_precio\n",
        "\n",
        "report = ProfileReport(df_precio, title=\"Profiling Report\")\n",
        "report"
      ],
      "metadata": {
        "id": "REO13J_BSoc2"
      },
      "execution_count": null,
      "outputs": []
    },
    {
      "cell_type": "markdown",
      "source": [
        "Asuma ahora que definimos la variable `fechaCaptura` para ser del tipo `datetime`. Adicionalmente, creamos la variable mes"
      ],
      "metadata": {
        "id": "WTwAt2fTUL5W"
      }
    },
    {
      "cell_type": "code",
      "source": [
        "df_precio['fechaCaptura']= pd.to_datetime(df_precio['fechaCaptura'])\n",
        "df_precio['mes'] = df_precio['fechaCaptura'].dt.month\n"
      ],
      "metadata": {
        "id": "EuMrHYlmUXfV"
      },
      "execution_count": null,
      "outputs": []
    },
    {
      "cell_type": "code",
      "source": [
        "\n",
        "new_report = ProfileReport(df_precio, title=\"Test\")\n",
        "\n",
        "comparison_report = report.compare(new_report)\n",
        "comparison_report\n",
        "# comparison_report.to_file(\"comparison.html\")"
      ],
      "metadata": {
        "id": "WpksdippUmun"
      },
      "execution_count": null,
      "outputs": []
    }
  ]
}