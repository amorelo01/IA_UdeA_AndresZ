{
  "nbformat": 4,
  "nbformat_minor": 0,
  "metadata": {
    "colab": {
      "provenance": [],
      "collapsed_sections": [],
      "include_colab_link": true
    },
    "kernelspec": {
      "name": "python3",
      "display_name": "Python 3"
    },
    "language_info": {
      "name": "python"
    }
  },
  "cells": [
    {
      "cell_type": "markdown",
      "metadata": {
        "id": "view-in-github",
        "colab_type": "text"
      },
      "source": [
        "<a href=\"https://colab.research.google.com/github/amorelo01/IA_UdeA_AndresZ/blob/main/respuesta.ipynb\" target=\"_parent\"><img src=\"https://colab.research.google.com/assets/colab-badge.svg\" alt=\"Open In Colab\"/></a>"
      ]
    },
    {
      "cell_type": "code",
      "execution_count": null,
      "metadata": {
        "id": "9jiq35KfUpmF"
      },
      "outputs": [],
      "source": [
        "import numpy as np\n",
        "import pandas as pd\n",
        "\n",
        "import matplotlib.pyplot as plt\n",
        "\n",
        "from sklearn.model_selection import train_test_split\n",
        "from sklearn.metrics import roc_auc_score\n",
        "from sklearn.preprocessing import LabelEncoder\n",
        "from sklearn.ensemble import RandomForestClassifier\n",
        "\n",
        "import warnings\n",
        "warnings.filterwarnings('ignore') "
      ]
    },
    {
      "cell_type": "code",
      "source": [
        "# Lectura de los archivos y asignacion de variables\n",
        "train = pd.read_csv('https://drive.google.com/uc?id=1OIsB4KWW429YJuwTMirBh8Y0jUbWwHwl', index_col='id')\n",
        "test = pd.read_csv('https://drive.google.com/uc?id=1m0CDh7iom9OohCpumZLsuM4qGixartab', index_col='id')\n",
        "submission = pd.read_csv('https://drive.google.com/uc?id=19kVehCVH3L77Rw93kHznZ2btyhC5B-zO', index_col='id')"
      ],
      "metadata": {
        "id": "fqIm2BSbZ2fI"
      },
      "execution_count": null,
      "outputs": []
    },
    {
      "cell_type": "code",
      "source": [
        "display(train.head())"
      ],
      "metadata": {
        "colab": {
          "base_uri": "https://localhost:8080/",
          "height": 267
        },
        "id": "DiYna1J8RH1g",
        "outputId": "241c0c12-f4c9-4055-eace-b4713cec1c35"
      },
      "execution_count": null,
      "outputs": [
        {
          "output_type": "display_data",
          "data": {
            "text/plain": [
              "   cat0 cat1 cat2 cat3 cat4 cat5 cat6 cat7 cat8 cat9  ...     cont2     cont3  \\\n",
              "id                                                    ...                       \n",
              "0     A    I    A    B    B   BI    A    S    Q    A  ...  0.759439  0.795549   \n",
              "1     A    I    A    A    E   BI    K    W   AD    F  ...  0.386385  0.541366   \n",
              "2     A    K    A    A    E   BI    A    E   BM    L  ...  0.343255  0.616352   \n",
              "3     A    K    A    C    E   BI    A    Y   AD    F  ...  0.831147  0.807807   \n",
              "4     A    I    G    B    E   BI    C    G    Q    A  ...  0.338818  0.277308   \n",
              "\n",
              "       cont4     cont5     cont6     cont7     cont8     cont9    cont10  \\\n",
              "id                                                                         \n",
              "0   0.681917  0.621672  0.592184  0.791921  0.815254  0.965006  0.665915   \n",
              "1   0.388982  0.357778  0.600044  0.408701  0.399353  0.927406  0.493729   \n",
              "2   0.793687  0.552877  0.352113  0.388835  0.412303  0.292696  0.549452   \n",
              "3   0.800032  0.619147  0.221789  0.897617  0.633669  0.760318  0.934242   \n",
              "4   0.610578  0.128291  0.578764  0.279167  0.351103  0.357084  0.328960   \n",
              "\n",
              "    target  \n",
              "id          \n",
              "0        0  \n",
              "1        0  \n",
              "2        0  \n",
              "3        0  \n",
              "4        1  \n",
              "\n",
              "[5 rows x 31 columns]"
            ],
            "text/html": [
              "\n",
              "  <div id=\"df-6427dac6-e952-4ae3-85dc-26d49bf9ae50\">\n",
              "    <div class=\"colab-df-container\">\n",
              "      <div>\n",
              "<style scoped>\n",
              "    .dataframe tbody tr th:only-of-type {\n",
              "        vertical-align: middle;\n",
              "    }\n",
              "\n",
              "    .dataframe tbody tr th {\n",
              "        vertical-align: top;\n",
              "    }\n",
              "\n",
              "    .dataframe thead th {\n",
              "        text-align: right;\n",
              "    }\n",
              "</style>\n",
              "<table border=\"1\" class=\"dataframe\">\n",
              "  <thead>\n",
              "    <tr style=\"text-align: right;\">\n",
              "      <th></th>\n",
              "      <th>cat0</th>\n",
              "      <th>cat1</th>\n",
              "      <th>cat2</th>\n",
              "      <th>cat3</th>\n",
              "      <th>cat4</th>\n",
              "      <th>cat5</th>\n",
              "      <th>cat6</th>\n",
              "      <th>cat7</th>\n",
              "      <th>cat8</th>\n",
              "      <th>cat9</th>\n",
              "      <th>...</th>\n",
              "      <th>cont2</th>\n",
              "      <th>cont3</th>\n",
              "      <th>cont4</th>\n",
              "      <th>cont5</th>\n",
              "      <th>cont6</th>\n",
              "      <th>cont7</th>\n",
              "      <th>cont8</th>\n",
              "      <th>cont9</th>\n",
              "      <th>cont10</th>\n",
              "      <th>target</th>\n",
              "    </tr>\n",
              "    <tr>\n",
              "      <th>id</th>\n",
              "      <th></th>\n",
              "      <th></th>\n",
              "      <th></th>\n",
              "      <th></th>\n",
              "      <th></th>\n",
              "      <th></th>\n",
              "      <th></th>\n",
              "      <th></th>\n",
              "      <th></th>\n",
              "      <th></th>\n",
              "      <th></th>\n",
              "      <th></th>\n",
              "      <th></th>\n",
              "      <th></th>\n",
              "      <th></th>\n",
              "      <th></th>\n",
              "      <th></th>\n",
              "      <th></th>\n",
              "      <th></th>\n",
              "      <th></th>\n",
              "      <th></th>\n",
              "    </tr>\n",
              "  </thead>\n",
              "  <tbody>\n",
              "    <tr>\n",
              "      <th>0</th>\n",
              "      <td>A</td>\n",
              "      <td>I</td>\n",
              "      <td>A</td>\n",
              "      <td>B</td>\n",
              "      <td>B</td>\n",
              "      <td>BI</td>\n",
              "      <td>A</td>\n",
              "      <td>S</td>\n",
              "      <td>Q</td>\n",
              "      <td>A</td>\n",
              "      <td>...</td>\n",
              "      <td>0.759439</td>\n",
              "      <td>0.795549</td>\n",
              "      <td>0.681917</td>\n",
              "      <td>0.621672</td>\n",
              "      <td>0.592184</td>\n",
              "      <td>0.791921</td>\n",
              "      <td>0.815254</td>\n",
              "      <td>0.965006</td>\n",
              "      <td>0.665915</td>\n",
              "      <td>0</td>\n",
              "    </tr>\n",
              "    <tr>\n",
              "      <th>1</th>\n",
              "      <td>A</td>\n",
              "      <td>I</td>\n",
              "      <td>A</td>\n",
              "      <td>A</td>\n",
              "      <td>E</td>\n",
              "      <td>BI</td>\n",
              "      <td>K</td>\n",
              "      <td>W</td>\n",
              "      <td>AD</td>\n",
              "      <td>F</td>\n",
              "      <td>...</td>\n",
              "      <td>0.386385</td>\n",
              "      <td>0.541366</td>\n",
              "      <td>0.388982</td>\n",
              "      <td>0.357778</td>\n",
              "      <td>0.600044</td>\n",
              "      <td>0.408701</td>\n",
              "      <td>0.399353</td>\n",
              "      <td>0.927406</td>\n",
              "      <td>0.493729</td>\n",
              "      <td>0</td>\n",
              "    </tr>\n",
              "    <tr>\n",
              "      <th>2</th>\n",
              "      <td>A</td>\n",
              "      <td>K</td>\n",
              "      <td>A</td>\n",
              "      <td>A</td>\n",
              "      <td>E</td>\n",
              "      <td>BI</td>\n",
              "      <td>A</td>\n",
              "      <td>E</td>\n",
              "      <td>BM</td>\n",
              "      <td>L</td>\n",
              "      <td>...</td>\n",
              "      <td>0.343255</td>\n",
              "      <td>0.616352</td>\n",
              "      <td>0.793687</td>\n",
              "      <td>0.552877</td>\n",
              "      <td>0.352113</td>\n",
              "      <td>0.388835</td>\n",
              "      <td>0.412303</td>\n",
              "      <td>0.292696</td>\n",
              "      <td>0.549452</td>\n",
              "      <td>0</td>\n",
              "    </tr>\n",
              "    <tr>\n",
              "      <th>3</th>\n",
              "      <td>A</td>\n",
              "      <td>K</td>\n",
              "      <td>A</td>\n",
              "      <td>C</td>\n",
              "      <td>E</td>\n",
              "      <td>BI</td>\n",
              "      <td>A</td>\n",
              "      <td>Y</td>\n",
              "      <td>AD</td>\n",
              "      <td>F</td>\n",
              "      <td>...</td>\n",
              "      <td>0.831147</td>\n",
              "      <td>0.807807</td>\n",
              "      <td>0.800032</td>\n",
              "      <td>0.619147</td>\n",
              "      <td>0.221789</td>\n",
              "      <td>0.897617</td>\n",
              "      <td>0.633669</td>\n",
              "      <td>0.760318</td>\n",
              "      <td>0.934242</td>\n",
              "      <td>0</td>\n",
              "    </tr>\n",
              "    <tr>\n",
              "      <th>4</th>\n",
              "      <td>A</td>\n",
              "      <td>I</td>\n",
              "      <td>G</td>\n",
              "      <td>B</td>\n",
              "      <td>E</td>\n",
              "      <td>BI</td>\n",
              "      <td>C</td>\n",
              "      <td>G</td>\n",
              "      <td>Q</td>\n",
              "      <td>A</td>\n",
              "      <td>...</td>\n",
              "      <td>0.338818</td>\n",
              "      <td>0.277308</td>\n",
              "      <td>0.610578</td>\n",
              "      <td>0.128291</td>\n",
              "      <td>0.578764</td>\n",
              "      <td>0.279167</td>\n",
              "      <td>0.351103</td>\n",
              "      <td>0.357084</td>\n",
              "      <td>0.328960</td>\n",
              "      <td>1</td>\n",
              "    </tr>\n",
              "  </tbody>\n",
              "</table>\n",
              "<p>5 rows × 31 columns</p>\n",
              "</div>\n",
              "      <button class=\"colab-df-convert\" onclick=\"convertToInteractive('df-6427dac6-e952-4ae3-85dc-26d49bf9ae50')\"\n",
              "              title=\"Convert this dataframe to an interactive table.\"\n",
              "              style=\"display:none;\">\n",
              "        \n",
              "  <svg xmlns=\"http://www.w3.org/2000/svg\" height=\"24px\"viewBox=\"0 0 24 24\"\n",
              "       width=\"24px\">\n",
              "    <path d=\"M0 0h24v24H0V0z\" fill=\"none\"/>\n",
              "    <path d=\"M18.56 5.44l.94 2.06.94-2.06 2.06-.94-2.06-.94-.94-2.06-.94 2.06-2.06.94zm-11 1L8.5 8.5l.94-2.06 2.06-.94-2.06-.94L8.5 2.5l-.94 2.06-2.06.94zm10 10l.94 2.06.94-2.06 2.06-.94-2.06-.94-.94-2.06-.94 2.06-2.06.94z\"/><path d=\"M17.41 7.96l-1.37-1.37c-.4-.4-.92-.59-1.43-.59-.52 0-1.04.2-1.43.59L10.3 9.45l-7.72 7.72c-.78.78-.78 2.05 0 2.83L4 21.41c.39.39.9.59 1.41.59.51 0 1.02-.2 1.41-.59l7.78-7.78 2.81-2.81c.8-.78.8-2.07 0-2.86zM5.41 20L4 18.59l7.72-7.72 1.47 1.35L5.41 20z\"/>\n",
              "  </svg>\n",
              "      </button>\n",
              "      \n",
              "  <style>\n",
              "    .colab-df-container {\n",
              "      display:flex;\n",
              "      flex-wrap:wrap;\n",
              "      gap: 12px;\n",
              "    }\n",
              "\n",
              "    .colab-df-convert {\n",
              "      background-color: #E8F0FE;\n",
              "      border: none;\n",
              "      border-radius: 50%;\n",
              "      cursor: pointer;\n",
              "      display: none;\n",
              "      fill: #1967D2;\n",
              "      height: 32px;\n",
              "      padding: 0 0 0 0;\n",
              "      width: 32px;\n",
              "    }\n",
              "\n",
              "    .colab-df-convert:hover {\n",
              "      background-color: #E2EBFA;\n",
              "      box-shadow: 0px 1px 2px rgba(60, 64, 67, 0.3), 0px 1px 3px 1px rgba(60, 64, 67, 0.15);\n",
              "      fill: #174EA6;\n",
              "    }\n",
              "\n",
              "    [theme=dark] .colab-df-convert {\n",
              "      background-color: #3B4455;\n",
              "      fill: #D2E3FC;\n",
              "    }\n",
              "\n",
              "    [theme=dark] .colab-df-convert:hover {\n",
              "      background-color: #434B5C;\n",
              "      box-shadow: 0px 1px 3px 1px rgba(0, 0, 0, 0.15);\n",
              "      filter: drop-shadow(0px 1px 2px rgba(0, 0, 0, 0.3));\n",
              "      fill: #FFFFFF;\n",
              "    }\n",
              "  </style>\n",
              "\n",
              "      <script>\n",
              "        const buttonEl =\n",
              "          document.querySelector('#df-6427dac6-e952-4ae3-85dc-26d49bf9ae50 button.colab-df-convert');\n",
              "        buttonEl.style.display =\n",
              "          google.colab.kernel.accessAllowed ? 'block' : 'none';\n",
              "\n",
              "        async function convertToInteractive(key) {\n",
              "          const element = document.querySelector('#df-6427dac6-e952-4ae3-85dc-26d49bf9ae50');\n",
              "          const dataTable =\n",
              "            await google.colab.kernel.invokeFunction('convertToInteractive',\n",
              "                                                     [key], {});\n",
              "          if (!dataTable) return;\n",
              "\n",
              "          const docLinkHtml = 'Like what you see? Visit the ' +\n",
              "            '<a target=\"_blank\" href=https://colab.research.google.com/notebooks/data_table.ipynb>data table notebook</a>'\n",
              "            + ' to learn more about interactive tables.';\n",
              "          element.innerHTML = '';\n",
              "          dataTable['output_type'] = 'display_data';\n",
              "          await google.colab.output.renderOutput(dataTable, element);\n",
              "          const docLink = document.createElement('div');\n",
              "          docLink.innerHTML = docLinkHtml;\n",
              "          element.appendChild(docLink);\n",
              "        }\n",
              "      </script>\n",
              "    </div>\n",
              "  </div>\n",
              "  "
            ]
          },
          "metadata": {}
        }
      ]
    },
    {
      "cell_type": "code",
      "source": [
        "# Codificación de las columnas categoricas \"cat\",\n",
        "# se cambian de letras a números usando la función \"LabelEncoder\" de la sección \"preprocessing\" de scikit-learn\n",
        "for c in train.columns:\n",
        "    if train[c].dtype=='object': \n",
        "        lbl = LabelEncoder()\n",
        "        lbl.fit(list(train[c].values) + list(test[c].values))\n",
        "        train[c] = lbl.transform(train[c].values)\n",
        "        test[c] = lbl.transform(test[c].values)\n",
        "        \n",
        "display(train.head())"
      ],
      "metadata": {
        "id": "j33R-T7WaBXA",
        "colab": {
          "base_uri": "https://localhost:8080/",
          "height": 311
        },
        "outputId": "38f58bfb-ac1b-4604-f275-614b39122c8f"
      },
      "execution_count": null,
      "outputs": [
        {
          "output_type": "display_data",
          "data": {
            "text/plain": [
              "    cat0  cat1  cat2  cat3  cat4  cat5  cat6  cat7  cat8  cat9  ...     cont2  \\\n",
              "id                                                              ...             \n",
              "0      0     8     0     1     1    33     0    44    54     0  ...  0.759439   \n",
              "1      0     8     0     0     4    33     8    48     3     5  ...  0.386385   \n",
              "2      0    10     0     0     4    33     0    30    38     9  ...  0.343255   \n",
              "3      0    10     0     2     4    33     0    50     3     5  ...  0.831147   \n",
              "4      0     8     6     1     4    33     2    32    54     0  ...  0.338818   \n",
              "\n",
              "       cont3     cont4     cont5     cont6     cont7     cont8     cont9  \\\n",
              "id                                                                         \n",
              "0   0.795549  0.681917  0.621672  0.592184  0.791921  0.815254  0.965006   \n",
              "1   0.541366  0.388982  0.357778  0.600044  0.408701  0.399353  0.927406   \n",
              "2   0.616352  0.793687  0.552877  0.352113  0.388835  0.412303  0.292696   \n",
              "3   0.807807  0.800032  0.619147  0.221789  0.897617  0.633669  0.760318   \n",
              "4   0.277308  0.610578  0.128291  0.578764  0.279167  0.351103  0.357084   \n",
              "\n",
              "      cont10  target  \n",
              "id                    \n",
              "0   0.665915       0  \n",
              "1   0.493729       0  \n",
              "2   0.549452       0  \n",
              "3   0.934242       0  \n",
              "4   0.328960       1  \n",
              "\n",
              "[5 rows x 31 columns]"
            ],
            "text/html": [
              "\n",
              "  <div id=\"df-2027dacf-b3cf-4c81-95ab-f17be90c783a\">\n",
              "    <div class=\"colab-df-container\">\n",
              "      <div>\n",
              "<style scoped>\n",
              "    .dataframe tbody tr th:only-of-type {\n",
              "        vertical-align: middle;\n",
              "    }\n",
              "\n",
              "    .dataframe tbody tr th {\n",
              "        vertical-align: top;\n",
              "    }\n",
              "\n",
              "    .dataframe thead th {\n",
              "        text-align: right;\n",
              "    }\n",
              "</style>\n",
              "<table border=\"1\" class=\"dataframe\">\n",
              "  <thead>\n",
              "    <tr style=\"text-align: right;\">\n",
              "      <th></th>\n",
              "      <th>cat0</th>\n",
              "      <th>cat1</th>\n",
              "      <th>cat2</th>\n",
              "      <th>cat3</th>\n",
              "      <th>cat4</th>\n",
              "      <th>cat5</th>\n",
              "      <th>cat6</th>\n",
              "      <th>cat7</th>\n",
              "      <th>cat8</th>\n",
              "      <th>cat9</th>\n",
              "      <th>...</th>\n",
              "      <th>cont2</th>\n",
              "      <th>cont3</th>\n",
              "      <th>cont4</th>\n",
              "      <th>cont5</th>\n",
              "      <th>cont6</th>\n",
              "      <th>cont7</th>\n",
              "      <th>cont8</th>\n",
              "      <th>cont9</th>\n",
              "      <th>cont10</th>\n",
              "      <th>target</th>\n",
              "    </tr>\n",
              "    <tr>\n",
              "      <th>id</th>\n",
              "      <th></th>\n",
              "      <th></th>\n",
              "      <th></th>\n",
              "      <th></th>\n",
              "      <th></th>\n",
              "      <th></th>\n",
              "      <th></th>\n",
              "      <th></th>\n",
              "      <th></th>\n",
              "      <th></th>\n",
              "      <th></th>\n",
              "      <th></th>\n",
              "      <th></th>\n",
              "      <th></th>\n",
              "      <th></th>\n",
              "      <th></th>\n",
              "      <th></th>\n",
              "      <th></th>\n",
              "      <th></th>\n",
              "      <th></th>\n",
              "      <th></th>\n",
              "    </tr>\n",
              "  </thead>\n",
              "  <tbody>\n",
              "    <tr>\n",
              "      <th>0</th>\n",
              "      <td>0</td>\n",
              "      <td>8</td>\n",
              "      <td>0</td>\n",
              "      <td>1</td>\n",
              "      <td>1</td>\n",
              "      <td>33</td>\n",
              "      <td>0</td>\n",
              "      <td>44</td>\n",
              "      <td>54</td>\n",
              "      <td>0</td>\n",
              "      <td>...</td>\n",
              "      <td>0.759439</td>\n",
              "      <td>0.795549</td>\n",
              "      <td>0.681917</td>\n",
              "      <td>0.621672</td>\n",
              "      <td>0.592184</td>\n",
              "      <td>0.791921</td>\n",
              "      <td>0.815254</td>\n",
              "      <td>0.965006</td>\n",
              "      <td>0.665915</td>\n",
              "      <td>0</td>\n",
              "    </tr>\n",
              "    <tr>\n",
              "      <th>1</th>\n",
              "      <td>0</td>\n",
              "      <td>8</td>\n",
              "      <td>0</td>\n",
              "      <td>0</td>\n",
              "      <td>4</td>\n",
              "      <td>33</td>\n",
              "      <td>8</td>\n",
              "      <td>48</td>\n",
              "      <td>3</td>\n",
              "      <td>5</td>\n",
              "      <td>...</td>\n",
              "      <td>0.386385</td>\n",
              "      <td>0.541366</td>\n",
              "      <td>0.388982</td>\n",
              "      <td>0.357778</td>\n",
              "      <td>0.600044</td>\n",
              "      <td>0.408701</td>\n",
              "      <td>0.399353</td>\n",
              "      <td>0.927406</td>\n",
              "      <td>0.493729</td>\n",
              "      <td>0</td>\n",
              "    </tr>\n",
              "    <tr>\n",
              "      <th>2</th>\n",
              "      <td>0</td>\n",
              "      <td>10</td>\n",
              "      <td>0</td>\n",
              "      <td>0</td>\n",
              "      <td>4</td>\n",
              "      <td>33</td>\n",
              "      <td>0</td>\n",
              "      <td>30</td>\n",
              "      <td>38</td>\n",
              "      <td>9</td>\n",
              "      <td>...</td>\n",
              "      <td>0.343255</td>\n",
              "      <td>0.616352</td>\n",
              "      <td>0.793687</td>\n",
              "      <td>0.552877</td>\n",
              "      <td>0.352113</td>\n",
              "      <td>0.388835</td>\n",
              "      <td>0.412303</td>\n",
              "      <td>0.292696</td>\n",
              "      <td>0.549452</td>\n",
              "      <td>0</td>\n",
              "    </tr>\n",
              "    <tr>\n",
              "      <th>3</th>\n",
              "      <td>0</td>\n",
              "      <td>10</td>\n",
              "      <td>0</td>\n",
              "      <td>2</td>\n",
              "      <td>4</td>\n",
              "      <td>33</td>\n",
              "      <td>0</td>\n",
              "      <td>50</td>\n",
              "      <td>3</td>\n",
              "      <td>5</td>\n",
              "      <td>...</td>\n",
              "      <td>0.831147</td>\n",
              "      <td>0.807807</td>\n",
              "      <td>0.800032</td>\n",
              "      <td>0.619147</td>\n",
              "      <td>0.221789</td>\n",
              "      <td>0.897617</td>\n",
              "      <td>0.633669</td>\n",
              "      <td>0.760318</td>\n",
              "      <td>0.934242</td>\n",
              "      <td>0</td>\n",
              "    </tr>\n",
              "    <tr>\n",
              "      <th>4</th>\n",
              "      <td>0</td>\n",
              "      <td>8</td>\n",
              "      <td>6</td>\n",
              "      <td>1</td>\n",
              "      <td>4</td>\n",
              "      <td>33</td>\n",
              "      <td>2</td>\n",
              "      <td>32</td>\n",
              "      <td>54</td>\n",
              "      <td>0</td>\n",
              "      <td>...</td>\n",
              "      <td>0.338818</td>\n",
              "      <td>0.277308</td>\n",
              "      <td>0.610578</td>\n",
              "      <td>0.128291</td>\n",
              "      <td>0.578764</td>\n",
              "      <td>0.279167</td>\n",
              "      <td>0.351103</td>\n",
              "      <td>0.357084</td>\n",
              "      <td>0.328960</td>\n",
              "      <td>1</td>\n",
              "    </tr>\n",
              "  </tbody>\n",
              "</table>\n",
              "<p>5 rows × 31 columns</p>\n",
              "</div>\n",
              "      <button class=\"colab-df-convert\" onclick=\"convertToInteractive('df-2027dacf-b3cf-4c81-95ab-f17be90c783a')\"\n",
              "              title=\"Convert this dataframe to an interactive table.\"\n",
              "              style=\"display:none;\">\n",
              "        \n",
              "  <svg xmlns=\"http://www.w3.org/2000/svg\" height=\"24px\"viewBox=\"0 0 24 24\"\n",
              "       width=\"24px\">\n",
              "    <path d=\"M0 0h24v24H0V0z\" fill=\"none\"/>\n",
              "    <path d=\"M18.56 5.44l.94 2.06.94-2.06 2.06-.94-2.06-.94-.94-2.06-.94 2.06-2.06.94zm-11 1L8.5 8.5l.94-2.06 2.06-.94-2.06-.94L8.5 2.5l-.94 2.06-2.06.94zm10 10l.94 2.06.94-2.06 2.06-.94-2.06-.94-.94-2.06-.94 2.06-2.06.94z\"/><path d=\"M17.41 7.96l-1.37-1.37c-.4-.4-.92-.59-1.43-.59-.52 0-1.04.2-1.43.59L10.3 9.45l-7.72 7.72c-.78.78-.78 2.05 0 2.83L4 21.41c.39.39.9.59 1.41.59.51 0 1.02-.2 1.41-.59l7.78-7.78 2.81-2.81c.8-.78.8-2.07 0-2.86zM5.41 20L4 18.59l7.72-7.72 1.47 1.35L5.41 20z\"/>\n",
              "  </svg>\n",
              "      </button>\n",
              "      \n",
              "  <style>\n",
              "    .colab-df-container {\n",
              "      display:flex;\n",
              "      flex-wrap:wrap;\n",
              "      gap: 12px;\n",
              "    }\n",
              "\n",
              "    .colab-df-convert {\n",
              "      background-color: #E8F0FE;\n",
              "      border: none;\n",
              "      border-radius: 50%;\n",
              "      cursor: pointer;\n",
              "      display: none;\n",
              "      fill: #1967D2;\n",
              "      height: 32px;\n",
              "      padding: 0 0 0 0;\n",
              "      width: 32px;\n",
              "    }\n",
              "\n",
              "    .colab-df-convert:hover {\n",
              "      background-color: #E2EBFA;\n",
              "      box-shadow: 0px 1px 2px rgba(60, 64, 67, 0.3), 0px 1px 3px 1px rgba(60, 64, 67, 0.15);\n",
              "      fill: #174EA6;\n",
              "    }\n",
              "\n",
              "    [theme=dark] .colab-df-convert {\n",
              "      background-color: #3B4455;\n",
              "      fill: #D2E3FC;\n",
              "    }\n",
              "\n",
              "    [theme=dark] .colab-df-convert:hover {\n",
              "      background-color: #434B5C;\n",
              "      box-shadow: 0px 1px 3px 1px rgba(0, 0, 0, 0.15);\n",
              "      filter: drop-shadow(0px 1px 2px rgba(0, 0, 0, 0.3));\n",
              "      fill: #FFFFFF;\n",
              "    }\n",
              "  </style>\n",
              "\n",
              "      <script>\n",
              "        const buttonEl =\n",
              "          document.querySelector('#df-2027dacf-b3cf-4c81-95ab-f17be90c783a button.colab-df-convert');\n",
              "        buttonEl.style.display =\n",
              "          google.colab.kernel.accessAllowed ? 'block' : 'none';\n",
              "\n",
              "        async function convertToInteractive(key) {\n",
              "          const element = document.querySelector('#df-2027dacf-b3cf-4c81-95ab-f17be90c783a');\n",
              "          const dataTable =\n",
              "            await google.colab.kernel.invokeFunction('convertToInteractive',\n",
              "                                                     [key], {});\n",
              "          if (!dataTable) return;\n",
              "\n",
              "          const docLinkHtml = 'Like what you see? Visit the ' +\n",
              "            '<a target=\"_blank\" href=https://colab.research.google.com/notebooks/data_table.ipynb>data table notebook</a>'\n",
              "            + ' to learn more about interactive tables.';\n",
              "          element.innerHTML = '';\n",
              "          dataTable['output_type'] = 'display_data';\n",
              "          await google.colab.output.renderOutput(dataTable, element);\n",
              "          const docLink = document.createElement('div');\n",
              "          docLink.innerHTML = docLinkHtml;\n",
              "          element.appendChild(docLink);\n",
              "        }\n",
              "      </script>\n",
              "    </div>\n",
              "  </div>\n",
              "  "
            ]
          },
          "metadata": {}
        }
      ]
    },
    {
      "cell_type": "code",
      "source": [
        "# Se separa el vector target (de 1s y 0s), en train\n",
        "target = train.pop('target')\n",
        "display(target.head)"
      ],
      "metadata": {
        "id": "ctBMgNuXaK62",
        "colab": {
          "base_uri": "https://localhost:8080/",
          "height": 249
        },
        "outputId": "740cbd6a-e42e-4294-c450-6101c2eed8b4"
      },
      "execution_count": null,
      "outputs": [
        {
          "output_type": "display_data",
          "data": {
            "text/plain": [
              "<bound method NDFrame.head of id\n",
              "0         0\n",
              "1         0\n",
              "2         0\n",
              "3         0\n",
              "4         1\n",
              "         ..\n",
              "499993    0\n",
              "499995    0\n",
              "499996    1\n",
              "499997    0\n",
              "499999    0\n",
              "Name: target, Length: 300000, dtype: int64>"
            ]
          },
          "metadata": {}
        }
      ]
    },
    {
      "cell_type": "markdown",
      "source": [
        "# PROCESADO"
      ],
      "metadata": {
        "id": "QepMyH4Wd9s4"
      }
    },
    {
      "cell_type": "code",
      "source": [
        "# Se hace el <validation split>, con la función \"train_test_split\" de la sección \"model_selection\" de scikit-learn\n",
        "# La idea es que apartir de la matriz de entrenamiento 'train' y usando los resultados de 'target', se saquen 4 sub-variables; \n",
        "# X_train, X_test, y_train, y_test. Es decir, 2 matrices X y 2 vectores y, todas las filas son aleatorias con la condicion que se corresponden los 'X' con los 'y' respectivos\n",
        "\n",
        "X_train, X_test, y_train, y_test = train_test_split(train, target,\n",
        "                                                    train_size=0.60) # el 60% de los datos van para 'X_train' y 'y_train', el 40% restante para las otras 2\n"
      ],
      "metadata": {
        "id": "QBkk2CiVh5ff"
      },
      "execution_count": null,
      "outputs": []
    },
    {
      "cell_type": "code",
      "source": [
        "display(X_test.head)"
      ],
      "metadata": {
        "colab": {
          "base_uri": "https://localhost:8080/",
          "height": 785
        },
        "id": "3WKmLowFlWWx",
        "outputId": "8791bfd7-034c-4b6d-d0e4-34a98b18a075"
      },
      "execution_count": null,
      "outputs": [
        {
          "output_type": "display_data",
          "data": {
            "text/plain": [
              "<bound method NDFrame.head of         cat0  cat1  cat2  cat3  cat4  cat5  cat6  cat7  cat8  cat9  ...  \\\n",
              "id                                                                  ...   \n",
              "405788     0     8     0     0     5    33     7     8    23     0  ...   \n",
              "408089     0     6    15     1     5    33     2     8    38     0  ...   \n",
              "220601     0    12     0     0     5    33     0     0    45     5  ...   \n",
              "215630     0    11     9     0     4     2     2     6    38     0  ...   \n",
              "248008     0     8     0     0     4    33     2    36     4     0  ...   \n",
              "...      ...   ...   ...   ...   ...   ...   ...   ...   ...   ...  ...   \n",
              "309659     0     8     2     1     4    33     0    39     5     4  ...   \n",
              "439886     0    10     5     2     5    33     0    30    38     0  ...   \n",
              "223703     1     8     0     0     4    33     2    30    59     8  ...   \n",
              "490848     0     8     2     0     5    33     0    46    59     0  ...   \n",
              "103608     0     0     6     0     5     2     4     8    60     0  ...   \n",
              "\n",
              "           cont1     cont2     cont3     cont4     cont5     cont6     cont7  \\\n",
              "id                                                                             \n",
              "405788  0.626411  0.567953  0.201384  0.229850  0.621587  0.583347  0.474592   \n",
              "408089  0.177537  0.189455  0.447122  0.393149  0.782006  0.617072  0.101968   \n",
              "220601  0.588769  0.554758  0.548114  0.368689  0.281708  0.587453  0.851128   \n",
              "215630  0.132813  0.218213  0.205240  0.216445  0.771203  0.510980  0.323291   \n",
              "248008  0.342115  0.402027  0.635265  0.555579  0.737156  0.374948  0.486072   \n",
              "...          ...       ...       ...       ...       ...       ...       ...   \n",
              "309659  0.333434  0.387706  0.322671  0.628300  0.283296  0.534943  0.444753   \n",
              "439886  0.733309  0.680146  0.555062  0.815011  0.788509  0.575906  0.352919   \n",
              "223703  0.366204  0.266964  0.284581  0.360857  0.486192  0.558260  0.380845   \n",
              "490848  0.456652  0.444131  0.263828  0.298736  0.422331  0.935741  0.343042   \n",
              "103608  0.257424  0.250821  0.304101  0.406463  0.185708  0.663752  0.247774   \n",
              "\n",
              "           cont8     cont9    cont10  \n",
              "id                                    \n",
              "405788  0.440003  0.571259  0.434192  \n",
              "408089  0.277641  0.379514  0.393540  \n",
              "220601  0.767443  0.715660  0.916166  \n",
              "215630  0.251113  0.531276  0.326735  \n",
              "248008  0.365400  0.354830  0.420949  \n",
              "...          ...       ...       ...  \n",
              "309659  0.351935  0.739053  0.347139  \n",
              "439886  0.456479  0.772981  0.913104  \n",
              "223703  0.317571  0.617594  0.345011  \n",
              "490848  0.358736  0.268670  0.469346  \n",
              "103608  0.429244  0.536486  0.307048  \n",
              "\n",
              "[120000 rows x 30 columns]>"
            ]
          },
          "metadata": {}
        }
      ]
    },
    {
      "cell_type": "code",
      "source": [
        "# La variable 'clf' será el bosque aleatorio de arboles de desición a incorporar, con un total de 200 arboles.\n",
        "clf = RandomForestClassifier(n_estimators=200,  # Por defecto vienen 100\n",
        "                             max_depth=7,       # Como hay tantas variables, se acota la profundidad de las ramas a 7, para que no se expandan hasta el infinito\n",
        "                             n_jobs=-1)         # n_jobs=-1 significa que se debe utilizar todos los procesadores en paralelo\n",
        "\n",
        "# Con .fit se incorporan las sub-variables de entrenamiento al bosque aleatorio\n",
        "clf.fit(X_train, y_train)\n",
        "\n",
        "# Con esto la variable 'clf' es el algoritmo entrenado"
      ],
      "metadata": {
        "id": "NHfrS1ZJaNUX",
        "colab": {
          "base_uri": "https://localhost:8080/"
        },
        "outputId": "20e4b29e-56e7-4380-b62a-d558da89fbcb"
      },
      "execution_count": null,
      "outputs": [
        {
          "output_type": "execute_result",
          "data": {
            "text/plain": [
              "RandomForestClassifier(max_depth=7, n_estimators=200, n_jobs=-1)"
            ]
          },
          "metadata": {},
          "execution_count": 8
        }
      ]
    },
    {
      "cell_type": "code",
      "source": [
        "clf"
      ],
      "metadata": {
        "colab": {
          "base_uri": "https://localhost:8080/"
        },
        "id": "0uw7LWS9nFtg",
        "outputId": "2f13781c-5ff5-449f-e6f2-91565004be88"
      },
      "execution_count": null,
      "outputs": [
        {
          "output_type": "execute_result",
          "data": {
            "text/plain": [
              "RandomForestClassifier(max_depth=7, n_estimators=200, n_jobs=-1)"
            ]
          },
          "metadata": {},
          "execution_count": 15
        }
      ]
    },
    {
      "cell_type": "markdown",
      "source": [
        "![methods.PNG](data:image/png;base64,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)"
      ],
      "metadata": {
        "id": "hZ-7xakDFGYw"
      }
    },
    {
      "cell_type": "code",
      "source": [
        "y_pred = clf.predict_proba(X_test)\n",
        "y_pred"
      ],
      "metadata": {
        "colab": {
          "base_uri": "https://localhost:8080/"
        },
        "id": "KJmCGnRS-hh2",
        "outputId": "7802f6d1-14ba-4fcd-e2a2-38479444eb37"
      },
      "execution_count": null,
      "outputs": [
        {
          "output_type": "execute_result",
          "data": {
            "text/plain": [
              "array([[0.85578893, 0.14421107],\n",
              "       [0.31574906, 0.68425094],\n",
              "       [0.85008999, 0.14991001],\n",
              "       ...,\n",
              "       [0.83075927, 0.16924073],\n",
              "       [0.89208573, 0.10791427],\n",
              "       [0.86868346, 0.13131654]])"
            ]
          },
          "metadata": {},
          "execution_count": 9
        }
      ]
    },
    {
      "cell_type": "code",
      "source": [
        "# La función 'predict_proba' toma la media de probabilidad de predicción de cada arbol\n",
        "\n",
        "y_pred = clf.predict_proba(X_test)[:, 1] # This grabs the positive class prediction\n",
        "y_pred\n"
      ],
      "metadata": {
        "id": "UoJ2_fTIghJB",
        "colab": {
          "base_uri": "https://localhost:8080/"
        },
        "outputId": "71bb00cc-9b60-4de5-cc6a-8e61a8d6fb8f"
      },
      "execution_count": null,
      "outputs": [
        {
          "output_type": "execute_result",
          "data": {
            "text/plain": [
              "array([0.14421107, 0.68425094, 0.14991001, ..., 0.16924073, 0.10791427,\n",
              "       0.13131654])"
            ]
          },
          "metadata": {},
          "execution_count": 10
        }
      ]
    },
    {
      "cell_type": "code",
      "source": [
        "\n",
        "score = roc_auc_score(y_test, y_pred)\n",
        "\n",
        "print(f'{score:0.5f}') # 0.87323 shows we're doing better than a dummy model"
      ],
      "metadata": {
        "id": "02QzvE8tk6wr",
        "colab": {
          "base_uri": "https://localhost:8080/"
        },
        "outputId": "8fe916c6-f980-4959-d0b8-326d267bfa24"
      },
      "execution_count": null,
      "outputs": [
        {
          "output_type": "stream",
          "name": "stdout",
          "text": [
            "0.87201\n"
          ]
        }
      ]
    },
    {
      "cell_type": "code",
      "source": [
        "from sklearn.metrics import roc_curve, auc"
      ],
      "metadata": {
        "id": "AWuoypT6fkzF"
      },
      "execution_count": null,
      "outputs": []
    },
    {
      "cell_type": "markdown",
      "source": [
        "# EJEMPLO DE GRAFICAR LA CURVA ROC:"
      ],
      "metadata": {
        "id": "DD1yK437wEpk"
      }
    },
    {
      "cell_type": "code",
      "source": [
        "import numpy as np\n",
        "import matplotlib.pyplot as plt\n",
        "from itertools import cycle\n",
        "\n",
        "from sklearn import svm, datasets\n",
        "from sklearn.metrics import roc_curve, auc\n",
        "from sklearn.model_selection import train_test_split\n",
        "from sklearn.preprocessing import label_binarize\n",
        "from sklearn.multiclass import OneVsRestClassifier\n",
        "from sklearn.metrics import roc_auc_score\n",
        "\n",
        "# Import some data to play with\n",
        "iris = datasets.load_iris()\n",
        "X = iris.data\n",
        "y = iris.target\n",
        "\n",
        "# Binarize the output\n",
        "y = label_binarize(y, classes=[0, 1, 2])\n",
        "n_classes = y.shape[1]\n",
        "\n",
        "# Add noisy features to make the problem harder\n",
        "random_state = np.random.RandomState(0)\n",
        "n_samples, n_features = X.shape\n",
        "X = np.c_[X, random_state.randn(n_samples, 200 * n_features)]\n",
        "\n",
        "# shuffle and split training and test sets\n",
        "X_train, X_test, y_train, y_test = train_test_split(X, y, test_size=0.5, random_state=0)\n",
        "\n",
        "# Learn to predict each class against the other\n",
        "classifier = OneVsRestClassifier(\n",
        "    svm.SVC(kernel=\"linear\", probability=True, random_state=random_state)\n",
        ")\n",
        "y_score = classifier.fit(X_train, y_train).decision_function(X_test)\n",
        "\n",
        "# Compute ROC curve and ROC area for each class\n",
        "fpr = dict()\n",
        "tpr = dict()\n",
        "roc_auc = dict()\n",
        "for i in range(n_classes):\n",
        "    fpr[i], tpr[i], _ = roc_curve(y_test[:, i], y_score[:, i])\n",
        "    roc_auc[i] = auc(fpr[i], tpr[i])\n",
        "\n",
        "# Compute micro-average ROC curve and ROC area\n",
        "fpr[\"micro\"], tpr[\"micro\"], _ = roc_curve(y_test.ravel(), y_score.ravel())\n",
        "roc_auc[\"micro\"] = auc(fpr[\"micro\"], tpr[\"micro\"])"
      ],
      "metadata": {
        "id": "6BInTO0fisTf"
      },
      "execution_count": null,
      "outputs": []
    },
    {
      "cell_type": "code",
      "source": [
        "plt.figure()\n",
        "lw = 2\n",
        "\n",
        "plt.plot(\n",
        "    fpr[2],\n",
        "    tpr[2],\n",
        "    color=\"darkorange\",\n",
        "    lw=lw,\n",
        "    label=\"ROC curve (area = %0.2f)\" % roc_auc[2],)\n",
        "\n",
        "plt.plot(\n",
        "    [0, 1], \n",
        "    [0, 1], \n",
        "    color=\"navy\", \n",
        "    lw=lw, \n",
        "    linestyle=\"--\")\n",
        "\n",
        "plt.xlim([0.0, 1.0])\n",
        "plt.ylim([0.0, 1.05])\n",
        "plt.xlabel(\"False Positive Rate\")\n",
        "plt.ylabel(\"True Positive Rate\")\n",
        "plt.title(\"Receiver operating characteristic example\")\n",
        "plt.legend(loc=\"lower right\")\n",
        "plt.show()"
      ],
      "metadata": {
        "colab": {
          "base_uri": "https://localhost:8080/",
          "height": 295
        },
        "id": "Fwi-JowxiwVy",
        "outputId": "10810c48-8da5-4c47-a6b5-ee75af9d0b00"
      },
      "execution_count": null,
      "outputs": [
        {
          "output_type": "display_data",
          "data": {
            "text/plain": [
              "<Figure size 432x288 with 1 Axes>"
            ],
            "image/png": "[encoded data removed]"
          },
          "metadata": {
            "needs_background": "light"
          }
        }
      ]
    },
    {
      "cell_type": "code",
      "source": [],
      "metadata": {
        "id": "qRVkv6Ya6krp"
      },
      "execution_count": null,
      "outputs": []
    },
    {
      "cell_type": "markdown",
      "source": [
        "# Sigue aquí lo que estaba en el foro:"
      ],
      "metadata": {
        "id": "ImaNkyjFwNvS"
      }
    },
    {
      "cell_type": "code",
      "source": [
        "plt.figure(figsize=(8,4))\n",
        "plt.hist(y_pred[np.where(y_test == 0)], bins=100, alpha=0.75, label='neg class')\n",
        "plt.hist(y_pred[np.where(y_test == 1)], bins=100, alpha=0.75, label='pos class')\n",
        "plt.legend()\n",
        "plt.show()"
      ],
      "metadata": {
        "colab": {
          "base_uri": "https://localhost:8080/",
          "height": 265
        },
        "id": "NAmKqlFCaRlm",
        "outputId": "90bd46d2-bf69-41a9-b1a9-1117e13cdb6b"
      },
      "execution_count": null,
      "outputs": [
        {
          "output_type": "display_data",
          "data": {
            "text/plain": [
              "<Figure size 576x288 with 1 Axes>"
            ],
            "image/png": "[encoded data removed]"
          },
          "metadata": {
            "needs_background": "light"
          }
        }
      ]
    },
    {
      "cell_type": "code",
      "source": [
        "y_pred[np.where(y_test == 0)]"
      ],
      "metadata": {
        "colab": {
          "base_uri": "https://localhost:8080/",
          "height": 170
        },
        "id": "VtyoUFAPa1Gn",
        "outputId": "90d4c71e-29b5-4169-ebec-6c684c534eee"
      },
      "execution_count": null,
      "outputs": [
        {
          "output_type": "error",
          "ename": "NameError",
          "evalue": "ignored",
          "traceback": [
            "\u001b[0;31m---------------------------------------------------------------------------\u001b[0m",
            "\u001b[0;31mNameError\u001b[0m                                 Traceback (most recent call last)",
            "\u001b[0;32m<ipython-input-1-a2b6d5d22956>\u001b[0m in \u001b[0;36m<module>\u001b[0;34m\u001b[0m\n\u001b[0;32m----> 1\u001b[0;31m \u001b[0my_pred\u001b[0m\u001b[0;34m[\u001b[0m\u001b[0mnp\u001b[0m\u001b[0;34m.\u001b[0m\u001b[0mwhere\u001b[0m\u001b[0;34m(\u001b[0m\u001b[0my_test\u001b[0m \u001b[0;34m==\u001b[0m \u001b[0;36m0\u001b[0m\u001b[0;34m)\u001b[0m\u001b[0;34m]\u001b[0m\u001b[0;34m\u001b[0m\u001b[0;34m\u001b[0m\u001b[0m\n\u001b[0m",
            "\u001b[0;31mNameError\u001b[0m: name 'y_pred' is not defined"
          ]
        }
      ]
    },
    {
      "cell_type": "code",
      "source": [
        "clf = RandomForestClassifier(n_estimators=200, max_depth=7, n_jobs=-1)\n",
        "clf.fit(train, target)\n",
        "submission['target'] = clf.predict_proba(test)[:, 1]\n",
        "# submission.to_csv('random_forest.csv')\n",
        "submission"
      ],
      "metadata": {
        "colab": {
          "base_uri": "https://localhost:8080/",
          "height": 455
        },
        "id": "dIq5_fPvaUYz",
        "outputId": "ba53fdf4-337c-4851-8be5-15fc250072f9"
      },
      "execution_count": null,
      "outputs": [
        {
          "output_type": "execute_result",
          "data": {
            "text/plain": [
              "          target\n",
              "id              \n",
              "5       0.090796\n",
              "6       0.523496\n",
              "8       0.132924\n",
              "9       0.114743\n",
              "11      0.154999\n",
              "...          ...\n",
              "499983  0.655808\n",
              "499984  0.069068\n",
              "499987  0.687857\n",
              "499994  0.167592\n",
              "499998  0.298509\n",
              "\n",
              "[200000 rows x 1 columns]"
            ],
            "text/html": [
              "\n",
              "  <div id=\"df-02886373-e5d6-4071-902d-12090610964f\">\n",
              "    <div class=\"colab-df-container\">\n",
              "      <div>\n",
              "<style scoped>\n",
              "    .dataframe tbody tr th:only-of-type {\n",
              "        vertical-align: middle;\n",
              "    }\n",
              "\n",
              "    .dataframe tbody tr th {\n",
              "        vertical-align: top;\n",
              "    }\n",
              "\n",
              "    .dataframe thead th {\n",
              "        text-align: right;\n",
              "    }\n",
              "</style>\n",
              "<table border=\"1\" class=\"dataframe\">\n",
              "  <thead>\n",
              "    <tr style=\"text-align: right;\">\n",
              "      <th></th>\n",
              "      <th>target</th>\n",
              "    </tr>\n",
              "    <tr>\n",
              "      <th>id</th>\n",
              "      <th></th>\n",
              "    </tr>\n",
              "  </thead>\n",
              "  <tbody>\n",
              "    <tr>\n",
              "      <th>5</th>\n",
              "      <td>0.090796</td>\n",
              "    </tr>\n",
              "    <tr>\n",
              "      <th>6</th>\n",
              "      <td>0.523496</td>\n",
              "    </tr>\n",
              "    <tr>\n",
              "      <th>8</th>\n",
              "      <td>0.132924</td>\n",
              "    </tr>\n",
              "    <tr>\n",
              "      <th>9</th>\n",
              "      <td>0.114743</td>\n",
              "    </tr>\n",
              "    <tr>\n",
              "      <th>11</th>\n",
              "      <td>0.154999</td>\n",
              "    </tr>\n",
              "    <tr>\n",
              "      <th>...</th>\n",
              "      <td>...</td>\n",
              "    </tr>\n",
              "    <tr>\n",
              "      <th>499983</th>\n",
              "      <td>0.655808</td>\n",
              "    </tr>\n",
              "    <tr>\n",
              "      <th>499984</th>\n",
              "      <td>0.069068</td>\n",
              "    </tr>\n",
              "    <tr>\n",
              "      <th>499987</th>\n",
              "      <td>0.687857</td>\n",
              "    </tr>\n",
              "    <tr>\n",
              "      <th>499994</th>\n",
              "      <td>0.167592</td>\n",
              "    </tr>\n",
              "    <tr>\n",
              "      <th>499998</th>\n",
              "      <td>0.298509</td>\n",
              "    </tr>\n",
              "  </tbody>\n",
              "</table>\n",
              "<p>200000 rows × 1 columns</p>\n",
              "</div>\n",
              "      <button class=\"colab-df-convert\" onclick=\"convertToInteractive('df-02886373-e5d6-4071-902d-12090610964f')\"\n",
              "              title=\"Convert this dataframe to an interactive table.\"\n",
              "              style=\"display:none;\">\n",
              "        \n",
              "  <svg xmlns=\"http://www.w3.org/2000/svg\" height=\"24px\"viewBox=\"0 0 24 24\"\n",
              "       width=\"24px\">\n",
              "    <path d=\"M0 0h24v24H0V0z\" fill=\"none\"/>\n",
              "    <path d=\"M18.56 5.44l.94 2.06.94-2.06 2.06-.94-2.06-.94-.94-2.06-.94 2.06-2.06.94zm-11 1L8.5 8.5l.94-2.06 2.06-.94-2.06-.94L8.5 2.5l-.94 2.06-2.06.94zm10 10l.94 2.06.94-2.06 2.06-.94-2.06-.94-.94-2.06-.94 2.06-2.06.94z\"/><path d=\"M17.41 7.96l-1.37-1.37c-.4-.4-.92-.59-1.43-.59-.52 0-1.04.2-1.43.59L10.3 9.45l-7.72 7.72c-.78.78-.78 2.05 0 2.83L4 21.41c.39.39.9.59 1.41.59.51 0 1.02-.2 1.41-.59l7.78-7.78 2.81-2.81c.8-.78.8-2.07 0-2.86zM5.41 20L4 18.59l7.72-7.72 1.47 1.35L5.41 20z\"/>\n",
              "  </svg>\n",
              "      </button>\n",
              "      \n",
              "  <style>\n",
              "    .colab-df-container {\n",
              "      display:flex;\n",
              "      flex-wrap:wrap;\n",
              "      gap: 12px;\n",
              "    }\n",
              "\n",
              "    .colab-df-convert {\n",
              "      background-color: #E8F0FE;\n",
              "      border: none;\n",
              "      border-radius: 50%;\n",
              "      cursor: pointer;\n",
              "      display: none;\n",
              "      fill: #1967D2;\n",
              "      height: 32px;\n",
              "      padding: 0 0 0 0;\n",
              "      width: 32px;\n",
              "    }\n",
              "\n",
              "    .colab-df-convert:hover {\n",
              "      background-color: #E2EBFA;\n",
              "      box-shadow: 0px 1px 2px rgba(60, 64, 67, 0.3), 0px 1px 3px 1px rgba(60, 64, 67, 0.15);\n",
              "      fill: #174EA6;\n",
              "    }\n",
              "\n",
              "    [theme=dark] .colab-df-convert {\n",
              "      background-color: #3B4455;\n",
              "      fill: #D2E3FC;\n",
              "    }\n",
              "\n",
              "    [theme=dark] .colab-df-convert:hover {\n",
              "      background-color: #434B5C;\n",
              "      box-shadow: 0px 1px 3px 1px rgba(0, 0, 0, 0.15);\n",
              "      filter: drop-shadow(0px 1px 2px rgba(0, 0, 0, 0.3));\n",
              "      fill: #FFFFFF;\n",
              "    }\n",
              "  </style>\n",
              "\n",
              "      <script>\n",
              "        const buttonEl =\n",
              "          document.querySelector('#df-02886373-e5d6-4071-902d-12090610964f button.colab-df-convert');\n",
              "        buttonEl.style.display =\n",
              "          google.colab.kernel.accessAllowed ? 'block' : 'none';\n",
              "\n",
              "        async function convertToInteractive(key) {\n",
              "          const element = document.querySelector('#df-02886373-e5d6-4071-902d-12090610964f');\n",
              "          const dataTable =\n",
              "            await google.colab.kernel.invokeFunction('convertToInteractive',\n",
              "                                                     [key], {});\n",
              "          if (!dataTable) return;\n",
              "\n",
              "          const docLinkHtml = 'Like what you see? Visit the ' +\n",
              "            '<a target=\"_blank\" href=https://colab.research.google.com/notebooks/data_table.ipynb>data table notebook</a>'\n",
              "            + ' to learn more about interactive tables.';\n",
              "          element.innerHTML = '';\n",
              "          dataTable['output_type'] = 'display_data';\n",
              "          await google.colab.output.renderOutput(dataTable, element);\n",
              "          const docLink = document.createElement('div');\n",
              "          docLink.innerHTML = docLinkHtml;\n",
              "          element.appendChild(docLink);\n",
              "        }\n",
              "      </script>\n",
              "    </div>\n",
              "  </div>\n",
              "  "
            ]
          },
          "metadata": {},
          "execution_count": 13
        }
      ]
    },
    {
      "cell_type": "code",
      "source": [],
      "metadata": {
        "id": "FgMg3sd_bdSZ"
      },
      "execution_count": null,
      "outputs": []
    }
  ]
}